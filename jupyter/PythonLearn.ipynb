{
 "cells": [
  {
   "cell_type": "markdown",
   "metadata": {},
   "source": [
    "# Python基础"
   ]
  },
  {
   "cell_type": "markdown",
   "metadata": {},
   "source": [
    "### 语言介绍\n",
    "* 机器语言\n",
    " * 优点是最底层,速度最快,缺点是最复杂,开发效率最低.\n",
    "* 汇编语言\n",
    " * 优点是比较底层,速度最快,缺点是最复杂,开发效率最低.\n",
    "* 高级语言\n",
    " * 编译性语言\n",
    "   * 执行速度快,不依赖语言环境运行,跨平台性差.\n",
    " * 解释性语言\n",
    "   * 跨平台好,一份代码,到处用,缺点是执行效率慢,依赖解释器运行."
   ]
  },
  {
   "cell_type": "markdown",
   "metadata": {
    "slideshow": {
     "slide_type": "-"
    }
   },
   "source": [
    "#### Attention\n",
    "* python文件(name.py)的后缀名.py是可以省略的,可以直接使用文件名来交给解释器执行.\n",
    "* For Example: python name.py -> python name"
   ]
  },
  {
   "cell_type": "markdown",
   "metadata": {},
   "source": [
    "### 变量\n",
    "* 变量的作用\n",
    "  * 把程序运算的中间结果临时存到内存里,以便后面的代码继续使用.\n",
    "* 定义变量的规范\n",
    "  * name = \"Rock\" -> name是变量名(标识符), \"Rock\"是变量值.\n",
    "  * 变量名只能是数字,字母或下划线的任意组合.\n",
    "  * 变量名的第一个字符不能是数字.\n",
    "  * 还有一些关键字不能被声明(help(\"keywords\")可查看).\n",
    "* 变量命名习惯\n",
    "   * 驼峰体\n",
    "   * 下划线\n",
    "   * ! 官方建议下划线.\n",
    "* 定义变量名的low方式\n",
    "   * 变量名为中文,拼音.\n",
    "   * 变量名过长.\n",
    "   * 变量名词不达意."
   ]
  },
  {
   "cell_type": "code",
   "execution_count": 15,
   "metadata": {},
   "outputs": [],
   "source": [
    "# 驼峰体\n",
    "AgeOfOldboy = 56\n",
    "NumberOfStudents = 80\n",
    "\n",
    "# 下划线\n",
    "age_of_oldboy = 56\n",
    "number_of_studens = 80"
   ]
  },
  {
   "cell_type": "markdown",
   "metadata": {},
   "source": [
    "### 常量\n",
    "* 常量的定义\n",
    "  * 常量指不变的量,在程序运行过程中不会变的量.\n",
    "* 常量的命名\n",
    "  * 用变量名全部大写来表示常量."
   ]
  },
  {
   "cell_type": "code",
   "execution_count": 16,
   "metadata": {},
   "outputs": [],
   "source": [
    "AGE_OF_OLDBOY = 56"
   ]
  },
  {
   "cell_type": "markdown",
   "metadata": {},
   "source": [
    "### 注释\n",
    "* 代码注释单行用(#),多行用(\"\"\"...\"\"\")或('''...''').\n",
    "* 代码注释原则\n",
    "  * 不用全部加注释,只需要在自己觉得重要或不好理解的部分加注释即可\n",
    "  * 注释可以用中文,英文,但绝不要用拼音.\n",
    "  "
   ]
  },
  {
   "cell_type": "code",
   "execution_count": 19,
   "metadata": {},
   "outputs": [
    {
     "name": "stdout",
     "output_type": "stream",
     "text": [
      "单行注释\n",
      "单引号的多行注释\n",
      "双引号的多行注释\n"
     ]
    }
   ],
   "source": [
    "# 这是一段单行注释\n",
    "print(\"单行注释\")\n",
    "'''\n",
    "这是一段多行注释,\n",
    "单引号的.\n",
    "'''\n",
    "print(\"单引号的多行注释\")\n",
    "\"\"\"\n",
    "这是一段多行注释,\n",
    "双引号的.\n",
    "\"\"\"\n",
    "print(\"双引号的多行注释\")"
   ]
  },
  {
   "cell_type": "markdown",
   "metadata": {},
   "source": [
    "### 数据类型\n",
    "* 什么是数据类型\n",
    "  * 计算机对各种数据进行一个明确的划分.\n",
    "* python的数据类型\n",
    "  * 基本类型\n",
    "     * 数字\n",
    "       * 整数 int\n",
    "       * 长整型 long (python3.\\*已经没有了,自动转为int类型)\n",
    "       * 浮点型 float\n",
    "     * 字符串\n",
    "       * 文本 str\n",
    "       * 字节 bytes\n",
    "     * 布尔\n",
    "       * True\n",
    "       * False\n",
    "  * 数据集\n",
    "     * 列表 list\n",
    "     * 元组 tuple\n",
    "     * 字典 dict\n",
    "       * 有序字典\n",
    "       * 无序字典\n",
    "     * 集合 set\n",
    "       * 有序集合\n",
    "       * 无序集合"
   ]
  },
  {
   "cell_type": "markdown",
   "metadata": {},
   "source": [
    "### 数字类型\n",
    "* int(整型)\n",
    "  * 在32位机器上,整数的位数为32位,取值范围为-2\\*\\*31~2\\*\\*31-1,即-2147483648~2147483647.\n",
    "  * 在64位机器上,整数的位数为64位,取值范围为-2\\*\\*63~2\\*\\*63-1,即-9223372036854775808~9223372036854775807.  \n",
    "* long(长整型)\n",
    "  * 跟C语言不同,Python的长整型没有指定位宽,即: Python没有限制长整数数值大小,但实际上由于机器内存有限,我们使用的长整数数值不可能无限大.\n",
    "\n",
    "#### Attention\n",
    "  * python2.\\*有long类型, but python3.\\*已经没有long类型了,全部变为int类型(若有python2.\\*以及python3.\\*的环境可以在终端进行以下命令查看)."
   ]
  },
  {
   "cell_type": "code",
   "execution_count": 14,
   "metadata": {},
   "outputs": [
    {
     "name": "stdout",
     "output_type": "stream",
     "text": [
      "<class 'int'>\n",
      "<class 'int'>\n"
     ]
    }
   ],
   "source": [
    "age = 2**62\n",
    "print(type(age))\n",
    "age = 2**63\n",
    "print(type(age))"
   ]
  },
  {
   "cell_type": "markdown",
   "metadata": {},
   "source": [
    "### 字符类型\n",
    "* 在Python中加了引号的都被认做为字符串类型.\n",
    "* 在定义字符串类型时,三个引号都被认做为字符串类型,而不是多行注释.\n",
    "* 单引号,双引号,多引号的区别\n",
    "  * 单引号和双引号是没有任何区别的,在下面msg中可以考虑单双引号的配合,当然也可以使用转义符(\\\\)来配合.\n",
    "  * 多引号则是用来定义多行字符串的(与注释的作用比较类似)."
   ]
  },
  {
   "cell_type": "code",
   "execution_count": 33,
   "metadata": {},
   "outputs": [
    {
     "name": "stdout",
     "output_type": "stream",
     "text": [
      "<class 'str'>\n",
      "<class 'int'>\n",
      "<class 'str'>\n",
      "My name is Rock,\n",
      "I'm 18 years old.\n",
      "<class 'str'>\n",
      "<class 'str'>\n",
      "<class 'str'>\n"
     ]
    }
   ],
   "source": [
    "name = \"Rock\"\n",
    "print(type(name))\n",
    "age = 18\n",
    "print(type(age))\n",
    "age = \"18\"\n",
    "print(type(age))\n",
    "msg = \"\"\"My name is Rock,\n",
    "I'm 18 years old.\"\"\"\n",
    "print(msg)\n",
    "print(type(msg))\n",
    "dsp = '''hh'''\n",
    "print(type(dsp))\n",
    "hometown = 'Si Chuan'\n",
    "print(type(hometown))"
   ]
  },
  {
   "cell_type": "markdown",
   "metadata": {},
   "source": [
    "* 字符串也可以进行 \"相加\" 和 \"相乘\" 运算.\n",
    "\n",
    "#### Attention\n",
    "* 字符串 \"相加\" 运算时只能加str类型, \"相乘\" 运算时只能乘int类型,否则会报错."
   ]
  },
  {
   "cell_type": "code",
   "execution_count": 38,
   "metadata": {},
   "outputs": [
    {
     "name": "stdout",
     "output_type": "stream",
     "text": [
      "Rock Johnson\n",
      "Rock JohnsonRock JohnsonRock JohnsonRock JohnsonRock Johnson\n"
     ]
    }
   ],
   "source": [
    "first_name = \"Rock\"\n",
    "last_name = \"Johnson\"\n",
    "my_name = first_name + \" \" + last_name\n",
    "print(my_name)\n",
    "my_name = my_name * 5\n",
    "print(my_name)"
   ]
  },
  {
   "cell_type": "markdown",
   "metadata": {},
   "source": [
    "### 布尔类型\n",
    "* 布尔只有两个值,一个True(真),一个False(假),主要用于逻辑判断.\n",
    "* 在程序里当我们取到布尔的值后就可以根据值来进行下一步的操作."
   ]
  },
  {
   "cell_type": "code",
   "execution_count": 39,
   "metadata": {},
   "outputs": [
    {
     "name": "stdout",
     "output_type": "stream",
     "text": [
      "False\n",
      "True\n"
     ]
    }
   ],
   "source": [
    "a = 10\n",
    "b = 20\n",
    "print(a > b)\n",
    "print(a < b)"
   ]
  },
  {
   "cell_type": "markdown",
   "metadata": {},
   "source": [
    "### 格式化输出\n",
    "* %s的s代表String (s是万能的输如数字和小数都行).\n",
    "* %d的d代表digit (数字).\n",
    "* %f的f代表float."
   ]
  },
  {
   "cell_type": "code",
   "execution_count": 45,
   "metadata": {},
   "outputs": [
    {
     "name": "stdout",
     "output_type": "stream",
     "text": [
      "Name: Rock\n",
      "Age: 18\n",
      "Job: Student\n",
      "Hometown: SiChuan\n",
      "----------info of  Rock ----------\n",
      "Name:  Rock\n",
      "Age:  18\n",
      "Job:  Student\n",
      "Hometown:  SiChuan\n",
      "----------end----------\n",
      "\n",
      "----------info of Rock ----------\n",
      "Name :          Rock\n",
      "Age :               18\n",
      "Job :               Student\n",
      "Hometown: SiChuan\n",
      "--------------end---------------\n",
      "\n"
     ]
    }
   ],
   "source": [
    "name = input(\"Name: \")\n",
    "age = input(\"Age: \")\n",
    "job = input(\"Job: \")\n",
    "hometown = input(\"Hometown: \")\n",
    "\n",
    "# 一般的输出\n",
    "print(\"---------- info of \", name, \" ----------\")\n",
    "print(\"Name: \", name)\n",
    "print(\"Age: \", age)\n",
    "print(\"Job: \", job)\n",
    "print(\"Hometown: \", hometown)\n",
    "print(\"---------- end ----------\")\n",
    "\n",
    "# 格式化输出\n",
    "info = \"\"\"\n",
    "---------- info of %s ----------\n",
    "Name :          %s\n",
    "Age :               %s\n",
    "Job :               %s\n",
    "Hometown: %s\n",
    "-------------- end ---------------\n",
    "\"\"\" % (name, name, age, job, hometown)\n",
    "print(info)"
   ]
  },
  {
   "cell_type": "markdown",
   "metadata": {},
   "source": [
    "### 运算符\n",
    "* 算数运算符\n",
    "  * \\+ : 将两个对象相加.\n",
    "  * \\- : 得到负数或一个数减去另一个数.\n",
    "  * \\* : 将两个数相乘或得到一个重复若干次的字符串.\n",
    "  * / : 一个数除另一个数.\n",
    "  * % : 返回除法的余数,俗称取模.\n",
    "  * \\*\\* : 返回x的y次幂 (方).\n",
    "  * // : 返回除法的整数."
   ]
  },
  {
   "cell_type": "code",
   "execution_count": 46,
   "metadata": {},
   "outputs": [
    {
     "name": "stdout",
     "output_type": "stream",
     "text": [
      "30\n",
      "-10\n",
      "200\n",
      "0.5\n",
      "10\n",
      "100000000000000000000\n",
      "0\n"
     ]
    }
   ],
   "source": [
    "x = 10\n",
    "y = 20\n",
    "\n",
    "print(x + y)\n",
    "print(x - y)\n",
    "print(x * y)\n",
    "print(x / y)\n",
    "print(x % y)\n",
    "print(x ** y)\n",
    "print(x // y)"
   ]
  },
  {
   "cell_type": "markdown",
   "metadata": {},
   "source": [
    "* 比较运算符\n",
    "  * == : 比较对象是否相等.\n",
    "  * != : 比较对象是否不相等.\n",
    "  * <> : 比较对象是否不相等 (类似!=).\n",
    "  * \\> : 比较前面的数是否大于后面的数.\n",
    "  * < : 比较前面的数是否小鱼后面的数.\n",
    "  * \\>= : 比较前面的数是否大于等于后面的数.\n",
    "  * <= : 比较前面的数是否小于等于后面的数.\n",
    "#### Attention\n",
    "* <>比较符在python2.\\*中支持,在python3.\\*中已移除,会报SyntaxError."
   ]
  },
  {
   "cell_type": "code",
   "execution_count": 49,
   "metadata": {},
   "outputs": [
    {
     "name": "stdout",
     "output_type": "stream",
     "text": [
      "False\n",
      "True\n",
      "False\n",
      "True\n",
      "False\n",
      "True\n"
     ]
    }
   ],
   "source": [
    "x = 10\n",
    "y = 20\n",
    "print(x == y)\n",
    "print(x != y)\n",
    "# print(x <> y) python3.*已不支持\n",
    "print(x > y)\n",
    "print(x < y)\n",
    "print(x >= y)\n",
    "print(x <= y)"
   ]
  },
  {
   "cell_type": "markdown",
   "metadata": {},
   "source": [
    "### 赋值运算\n",
    "* = : 简单的赋值运算,将后面的元素(变量或常量)赋值给前面的变量(常量).\n",
    "* += : 加法赋值运算, x += y等同于 x = x + y.\n",
    "* -= : 减法赋值运算, x -= y 等同于 x = x - y.\n",
    "* \\*= : 乘法赋值运算, x \\*= y 等同于 x = x \\* y.\n",
    "* /= : 除法赋值运算, x \\= y 等同于 x = x / y.\n",
    "* %= : 取模赋值运算, x %= y 等同于 x = x % y\n",
    "* \\*\\*= : 幂赋值运算, x \\*\\*= y 等同于 x = x \\*\\* y\n",
    "* //= : 取整除赋值运算, x //= y 等同于 x = x // y"
   ]
  },
  {
   "cell_type": "code",
   "execution_count": 57,
   "metadata": {},
   "outputs": [
    {
     "name": "stdout",
     "output_type": "stream",
     "text": [
      "8\n",
      "5\n",
      "15\n",
      "5.0\n",
      "2.0\n",
      "8.0\n",
      "2.0\n"
     ]
    }
   ],
   "source": [
    "x = 5\n",
    "y = 3\n",
    "\n",
    "x += y\n",
    "print(x)\n",
    "\n",
    "x -= y\n",
    "print(x)\n",
    "\n",
    "x *= y\n",
    "print(x)\n",
    "\n",
    "x /= y\n",
    "print(x)\n",
    "\n",
    "x %= y\n",
    "print(x)\n",
    "\n",
    "x **= y\n",
    "print(x)\n",
    "\n",
    "x //= y\n",
    "print(x)"
   ]
  },
  {
   "cell_type": "markdown",
   "metadata": {},
   "source": [
    "* 逻辑运算符\n",
    "  * and : if x = False, y = True, then (x and y) returns False, else if x = True, y = True, then (x and y) returns True.\n",
    "  * or : if x= False, y = True, then (x or y) returns True, else if x = False, y = False, then (x or y) returns False.\n",
    "  * not : if x = False, then(not x) returns True, else returns False."
   ]
  },
  {
   "cell_type": "code",
   "execution_count": 68,
   "metadata": {
    "scrolled": true
   },
   "outputs": [
    {
     "name": "stdout",
     "output_type": "stream",
     "text": [
      "False\n",
      "True\n",
      "False\n",
      "-----------\n",
      "True\n",
      "False\n",
      "True\n",
      "-----------\n",
      "True\n",
      "False\n",
      "True\n",
      "False\n"
     ]
    }
   ],
   "source": [
    "x = False\n",
    "y = True\n",
    "a = 10\n",
    "b = 20\n",
    "\n",
    "print(x and y)\n",
    "print(a == 10 and b == 20)\n",
    "print(a == 10 and b == 21)\n",
    "print(\"-----------\")\n",
    "\n",
    "print(x or y)\n",
    "print(a == 11 or b == 21)\n",
    "print(a == 10 or b == 21)\n",
    "print(\"-----------\")\n",
    "\n",
    "print(not x)\n",
    "print(not a == 10)\n",
    "print(not a == b)"
   ]
  },
  {
   "cell_type": "markdown",
   "metadata": {},
   "source": [
    "### 流程控制\n",
    "* 单分支\n",
    "  * 如果满足某个条件则执行代码块里面的代码再执行后续的代码,否则跳过代码块的代码直接执行后续的代码."
   ]
  },
  {
   "cell_type": "code",
   "execution_count": 73,
   "metadata": {},
   "outputs": [
    {
     "name": "stdout",
     "output_type": "stream",
     "text": [
      "a is smaller than b\n",
      "exit program\n"
     ]
    }
   ],
   "source": [
    "a = 10\n",
    "b = 20\n",
    "\n",
    "if a < b:\n",
    "    print(\"a is smaller than b\")\n",
    "    \n",
    "if a > b:\n",
    "    print(\"a is bigger than b\")\n",
    "    \n",
    "print(\"exit program\")"
   ]
  },
  {
   "cell_type": "markdown",
   "metadata": {},
   "source": [
    "* 双分支\n",
    "  * 如果满足某个条件则执行代码块里面的代码再执行后续的代码,否则执行另一个代码块的代码再执行后续的代码."
   ]
  },
  {
   "cell_type": "code",
   "execution_count": 74,
   "metadata": {
    "scrolled": true
   },
   "outputs": [
    {
     "name": "stdout",
     "output_type": "stream",
     "text": [
      "a is smaller than b\n",
      "exit program\n"
     ]
    }
   ],
   "source": [
    "a = 10\n",
    "b = 20\n",
    "\n",
    "if a > b:\n",
    "    print(\"a is bigger than b\")\n",
    "else:\n",
    "    print(\"a is smaller than b\")\n",
    "\n",
    "print(\"exit program\")"
   ]
  },
  {
   "cell_type": "markdown",
   "metadata": {},
   "source": [
    "* 多分支\n",
    "  * 有多个分支条件判断,满足哪个分支的条件,则走哪个分支的代码块."
   ]
  },
  {
   "cell_type": "code",
   "execution_count": 75,
   "metadata": {},
   "outputs": [
    {
     "name": "stdout",
     "output_type": "stream",
     "text": [
      "Age: 1001\n",
      "are you superman?\n"
     ]
    }
   ],
   "source": [
    "age = int(input(\"Age: \"))\n",
    "\n",
    "if age > 100:\n",
    "    print(\"are you superman?\")\n",
    "elif age > 80:\n",
    "    print(\"life is so long, incredible!\")\n",
    "elif age > 40:\n",
    "    print(\"mature man.\")\n",
    "elif age >= 0:\n",
    "    print(\"too young too simple.\")\n",
    "else:\n",
    "    print(\"liar!\")"
   ]
  },
  {
   "cell_type": "markdown",
   "metadata": {},
   "source": [
    "### while循环\n",
    "* 只要条件成立,就会一直执行."
   ]
  },
  {
   "cell_type": "code",
   "execution_count": 78,
   "metadata": {},
   "outputs": [
    {
     "name": "stdout",
     "output_type": "stream",
     "text": [
      "loop:  0\n",
      "loop:  1\n",
      "loop:  2\n",
      "loop:  3\n",
      "loop:  4\n",
      "loop:  5\n",
      "loop:  6\n",
      "loop:  7\n",
      "loop:  8\n",
      "loop:  9\n",
      "loop:  10\n"
     ]
    }
   ],
   "source": [
    "count = 0\n",
    "\n",
    "while count <= 10:\n",
    "    print(\"loop: \", count)\n",
    "    count += 1"
   ]
  },
  {
   "cell_type": "markdown",
   "metadata": {},
   "source": [
    "* dead loop\n",
    "  * 程序会一直执行."
   ]
  },
  {
   "cell_type": "code",
   "execution_count": 80,
   "metadata": {},
   "outputs": [],
   "source": [
    "# Attention, 最好不要把程序写成死循环.\n",
    "count = 0\n",
    "\n",
    "while True:\n",
    "    print(\"hh \", count)\n",
    "    count += 1"
   ]
  },
  {
   "cell_type": "markdown",
   "metadata": {},
   "source": [
    "* continue vs break\n",
    "  * break用于完全结束一个循环,跳出循环体执行循环后面的代码.\n",
    "  * continue用于结束一次当前的循环,不执行循环内的后面代码,而直接跳到下次的循环当中."
   ]
  },
  {
   "cell_type": "code",
   "execution_count": 85,
   "metadata": {},
   "outputs": [
    {
     "name": "stdout",
     "output_type": "stream",
     "text": [
      "loop:  0\n",
      "loop:  1\n",
      "loop:  2\n",
      "loop:  3\n",
      "loop:  4\n",
      "loop:  5\n",
      "-------end loop-------\n"
     ]
    }
   ],
   "source": [
    "count = 0\n",
    "while count <= 100:\n",
    "    print(\"loop: \", count)\n",
    "    if count == 5:\n",
    "        break\n",
    "    count += 1\n",
    "\n",
    "print(\"-------end loop-------\")"
   ]
  },
  {
   "cell_type": "code",
   "execution_count": 88,
   "metadata": {
    "collapsed": true
   },
   "outputs": [
    {
     "name": "stdout",
     "output_type": "stream",
     "text": [
      "loop  1\n",
      "loop  3\n",
      "loop  5\n",
      "loop  7\n",
      "loop  9\n",
      "loop  11\n",
      "loop  13\n",
      "loop  15\n",
      "loop  17\n",
      "loop  19\n",
      "loop  21\n",
      "loop  23\n",
      "loop  25\n",
      "loop  27\n",
      "loop  29\n",
      "loop  31\n",
      "loop  33\n",
      "loop  35\n",
      "loop  37\n",
      "loop  39\n",
      "loop  41\n",
      "loop  43\n",
      "loop  45\n",
      "loop  47\n",
      "loop  49\n",
      "loop  51\n",
      "loop  53\n",
      "loop  55\n",
      "loop  57\n",
      "loop  59\n",
      "loop  61\n",
      "loop  63\n",
      "loop  65\n",
      "loop  67\n",
      "loop  69\n",
      "loop  71\n",
      "loop  73\n",
      "loop  75\n",
      "loop  77\n",
      "loop  79\n",
      "loop  81\n",
      "loop  83\n",
      "loop  85\n",
      "loop  87\n",
      "loop  89\n",
      "loop  91\n",
      "loop  93\n",
      "loop  95\n",
      "loop  97\n",
      "loop  99\n",
      "-------end loop-------\n"
     ]
    }
   ],
   "source": [
    "count = 0\n",
    "while count < 100:\n",
    "    count += 1\n",
    "    if count % 2 == 0:\n",
    "        continue\n",
    "    print(\"loop \", count)\n",
    "    \n",
    "print(\"-------end loop-------\")"
   ]
  },
  {
   "cell_type": "markdown",
   "metadata": {},
   "source": [
    "* while else语句\n",
    "  * 在其它语言中,else只与if语句搭配,but in Python还有个while...else的语法.\n",
    "  * 当while循环正常执行完则会执行else里面的代码,正常执行完指的是没有被break结束掉."
   ]
  },
  {
   "cell_type": "code",
   "execution_count": 90,
   "metadata": {
    "collapsed": true
   },
   "outputs": [
    {
     "name": "stdout",
     "output_type": "stream",
     "text": [
      "loop  0\n",
      "loop  1\n",
      "loop  2\n",
      "loop  3\n",
      "loop  4\n",
      "loop  5\n",
      "loop  6\n",
      "loop  7\n",
      "loop  8\n",
      "loop  9\n",
      "loop  10\n",
      "safe\n",
      "-------end loop-------\n"
     ]
    }
   ],
   "source": [
    "count = 0\n",
    "\n",
    "while count <= 10:\n",
    "    print(\"loop \", count)\n",
    "    count += 1\n",
    "else:\n",
    "    print(\"loop is done...\")\n",
    "    \n",
    "print(\"-------end of loop-------\")"
   ]
  },
  {
   "cell_type": "code",
   "execution_count": 92,
   "metadata": {},
   "outputs": [
    {
     "name": "stdout",
     "output_type": "stream",
     "text": [
      "loop  0\n",
      "loop  1\n",
      "loop  2\n",
      "loop  3\n",
      "loop  4\n",
      "-------end of loop-------\n"
     ]
    }
   ],
   "source": [
    "count = 0\n",
    "\n",
    "while count <= 10:\n",
    "    if count == 5:\n",
    "        break\n",
    "    print(\"loop \", count)\n",
    "    count += 1\n",
    "else:\n",
    "    print(\"loop is done...\")\n",
    "    \n",
    "print(\"-------end of loop-------\")"
   ]
  },
  {
   "cell_type": "markdown",
   "metadata": {},
   "source": [
    "### 二进制"
   ]
  },
  {
   "cell_type": "code",
   "execution_count": 93,
   "metadata": {},
   "outputs": [
    {
     "name": "stdout",
     "output_type": "stream",
     "text": [
      "0b111110111\n"
     ]
    }
   ],
   "source": [
    "print(bin(503))"
   ]
  },
  {
   "cell_type": "markdown",
   "metadata": {},
   "source": [
    "### ASCII码与二进制\n",
    "* 文字 -> 十进制 -> 二进制\n",
    "* 文字转十进制则是用的ASCII表\n",
    "* ASCII表的十进制栏是0~255,所以转换成二进制则最多使用8位,所以我们计算机使用的二级制都是8位的\n",
    "* 每一位0或者1所占的空间单位为bit(比特),这是计算机中最小的表示单位.\n",
    "* 1 bytes = 8 bit   (byte(字节), 最小的存储单位,1bytes缩写为1B).\n",
    "* 1 KB = 1024 B\n",
    "* 1 MB = 1024 KB\n",
    "* 1 GB = 1024 MB\n",
    "* 1 TB = 1024 GB\n",
    "* 1 PB = 1024 TB\n",
    "* 1 EB = 1024 PB\n",
    "* 1 ZB = 1024 EB\n",
    "* 1 YB = 1024 ZB\n",
    "* 1 BB = 1024 YB\n",
    "\n",
    "### Python里的编码\n",
    "* python2升级到python3的最大的变化是升级了编码\n",
    "* python2.\\*中用的默认编码是ASCII,python3.\\*中用的默认编码是UTF-8."
   ]
  },
  {
   "cell_type": "markdown",
   "metadata": {},
   "source": [
    "# Python面向对象"
   ]
  },
  {
   "cell_type": "code",
   "execution_count": 2,
   "metadata": {},
   "outputs": [
    {
     "name": "stdout",
     "output_type": "stream",
     "text": [
      "['__class__', '__delattr__', '__dict__', '__dir__', '__doc__', '__eq__', '__format__', '__ge__', '__getattribute__', '__gt__', '__hash__', '__init__', '__le__', '__lt__', '__module__', '__ne__', '__new__', '__reduce__', '__reduce_ex__', '__repr__', '__setattr__', '__sizeof__', '__str__', '__subclasshook__', '__weakref__', '_age', '_test__weight', 'get_weight', 'name']\n",
      "{'_test__weight': 70, '_age': 18, 'name': 'Rock'}\n",
      "70\n",
      "<bound method test.get_weight of <__main__.test object at 0x7feba44def98>>\n",
      "70\n",
      "123\n",
      "['__add__', '__class__', '__contains__', '__delattr__', '__delitem__', '__dir__', '__doc__', '__eq__', '__format__', '__ge__', '__getattribute__', '__getitem__', '__gt__', '__hash__', '__iadd__', '__imul__', '__init__', '__iter__', '__le__', '__len__', '__lt__', '__mul__', '__ne__', '__new__', '__reduce__', '__reduce_ex__', '__repr__', '__reversed__', '__rmul__', '__setattr__', '__setitem__', '__sizeof__', '__str__', '__subclasshook__', 'append', 'clear', 'copy', 'count', 'extend', 'index', 'insert', 'pop', 'remove', 'reverse', 'sort']\n"
     ]
    }
   ],
   "source": [
    "class test(object):\n",
    "    def __init__(self, name, age, weight):\n",
    "        self.name = name\n",
    "        self._age = age\n",
    "        self.__weight = weight\n",
    "        \n",
    "    def get_weight(self):\n",
    "        return self.__weight\n",
    "    \n",
    "\n",
    "if __name__ == \"__main__\":\n",
    "    test = test(\"Rock\", 18, 70)\n",
    "    print(dir(test))\n",
    "    print(test.__dict__)\n",
    "    print(test.get_weight())\n",
    "    print(test.get_weight)\n",
    "    print(test._test__weight)\n",
    "    test.get_weight = \"123\"\n",
    "    print(test.get_weight)\n",
    "    print(dir(list))"
   ]
  },
  {
   "cell_type": "markdown",
   "metadata": {},
   "source": [
    "### 高阶函数\n",
    "\n",
    "#### 高阶函数的定义\n",
    "* 接受一个或多个函数作为参数\n",
    "* 返回一个参数"
   ]
  },
  {
   "cell_type": "code",
   "execution_count": 4,
   "metadata": {},
   "outputs": [
    {
     "name": "stdout",
     "output_type": "stream",
     "text": [
      "6\n"
     ]
    }
   ],
   "source": [
    "def counter(base):\n",
    "    def inc(step=1):\n",
    "        nonlocal base\n",
    "        base += step\n",
    "        return base\n",
    "    return inc\n",
    "\n",
    "foo = counter(5)\n",
    "print(foo())"
   ]
  },
  {
   "cell_type": "markdown",
   "metadata": {},
   "source": [
    "### Question:\n",
    "* f1 = counter(5) 和 f2 = counter(5)是否相等"
   ]
  },
  {
   "cell_type": "code",
   "execution_count": 11,
   "metadata": {},
   "outputs": [
    {
     "name": "stdout",
     "output_type": "stream",
     "text": [
      "140650050512824 140650050512008\n",
      "False\n"
     ]
    }
   ],
   "source": [
    "f1 = counter(5)\n",
    "f2 = counter(5)\n",
    "print(id(f1), id(f2))\n",
    "print(f1 == f2)"
   ]
  }
 ],
 "metadata": {
  "kernelspec": {
   "display_name": "Python 3",
   "language": "python",
   "name": "python3"
  },
  "language_info": {
   "codemirror_mode": {
    "name": "ipython",
    "version": 3
   },
   "file_extension": ".py",
   "mimetype": "text/x-python",
   "name": "python",
   "nbconvert_exporter": "python",
   "pygments_lexer": "ipython3",
   "version": "3.5.2"
  }
 },
 "nbformat": 4,
 "nbformat_minor": 2
}
