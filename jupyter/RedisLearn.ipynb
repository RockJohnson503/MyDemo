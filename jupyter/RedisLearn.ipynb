{
 "cells": [
  {
   "cell_type": "markdown",
   "metadata": {},
   "source": [
    "# Redis 基础\n",
    "\n",
    "### Redis介绍\n",
    "* Redis是一个开源的使用ANSI C语言编写、遵守BSD协议、支持网络、可基于内存亦可持久化的日志型、Key-Value数据库, 并提供多种语言的API.\n",
    "* 它通常被称为数据结构服务器, 因为值(value)可以是 字符串(String), 哈希(Map), 列表(list), 集合(sets) 和有序集合(sorted sets)等类型.\n",
    "\n",
    "### Redis的特点\n",
    "* Redis支持数据的持久化, 可以将内存中的数据保持在磁盘中, 重启的时候可以再次加载进行使用.\n",
    "* Redis不仅仅支持简单的key-value类型的数据, 同时还提供list, set, zset, hash等数据结构的存储.\n",
    "* 性能极高 – Redis能读的速度是110000次/s, 写的速度是81000次/s .\n",
    "* 丰富的数据类型 – Redis支持二进制案例的 Strings, Lists, Hashes, Sets 及 Ordered Sets 数据类型操作.\n",
    "* 原子 – Redis的所有操作都是原子性的, 同时Redis还支持对几个操作全并后的原子性执行.\n",
    "* 丰富的特性 – Redis还支持 publish/subscribe, 通知, key 过期等等特性.\n",
    "\n",
    "### Redis配置里的参数说明\n",
    "* daemonize no\n",
    "    * Redis默认不是以守护进程的方式运行, 可以通过该配置项修改, 使用yes启用守护进程.\n",
    "* pidfile /var/run/redis.pid\n",
    "    * 当Redis以守护进程方式运行时, Redis默认会把pid写入/var/run/redis.pid文件, 可以通过pidfile指定.\n",
    "* port 6379\n",
    "    * 指定Redis监听端口, 默认端口为6379, 作者在自己的一篇博文中解释了为什么选用6379作为默认端口, 因为6379在手机按键上MERZ对应的号码, 而MERZ取自意大利歌女Alessia Merz的名字.\n",
    "*  bind 127.0.0.1\n",
    "    * 绑定的主机地址.\n",
    "* timeout 300\n",
    "    * 当客户端闲置多长时间后关闭连接, 如果指定为0, 表示关闭该功能.\n",
    "* loglevel verbose\n",
    "    * 指定日志记录级别, Redis总共支持四个级别: debug、verbose、notice、warning, 默认为verbose.\n",
    "* logfile stdout\n",
    "    * 日志记录方式, 默认为标准输出, 如果配置Redis为守护进程方式运行, 而这里又配置为日志记录方式为标准输出, 则日志将会发送给/dev/null.\n",
    "* databases 16\n",
    "    * 设置数据库的数量, 默认数据库为0, 可以使用selcet <dbid\\> 命令在连接上指定数据库id.\n",
    "* save <seconds\\> <changes\\>\n",
    "    * 指定在多长时间内, 有多少次更新操作, 就将数据同步到数据文件, 可以多个条件配合.\n",
    "    * for example :\n",
    "        * save 900 1\n",
    "        * save 60 10000\n",
    "        * 分别表示900秒内有1个更改就将数据同步到数据库, 60秒内有10000个改动就将数据同步到数据库.\n",
    "*  rdbcompression yes\n",
    "    * 指定存储至本地数据库时是否压缩数据, 默认为yes, Redis采用LZF压缩, 如果为了节省CPU时间, 可以关闭该选项, 但会导致数据库文件变的巨大.\n",
    "* dbfilename dump.rdb\n",
    "    * 指定本地数据库文件名, 默认值为dump.rdb.\n",
    "* dir <path\\>\n",
    "    * 指定本地数据库存放目录.\n",
    "* slaveof <masterip\\> <masterport\\>\n",
    "    * 设置当本机为slav服务时, 设置master服务的IP地址及端口, 在Redis启动时, 它会自动从master进行数据同步.\n",
    "* masterauth <master-password\\>\n",
    "    * 当master服务设置了密码保护时, slav服务连接master的密码.\n",
    "* requirepass <password\\>\n",
    "    * 设置Redis连接密码, 如果配置了连接密码, 客户端在连接Redis时需要通过auth <password\\>命令提供密码, 默认关闭.\n",
    "* maxclients 128\n",
    "    * 设置同一时间最大客户端连接数, 默认无限制, Redis可以同时打开的客户端连接数为Redis进程可以打开的最大文件描述符数, 如果设置 maxclients 0, 表示不作限制. 当客户端连接数到达限制时, Redis会关闭新的连接并向客户端返回max number of clients reached错误信息.\n",
    "* maxmemory <bytes\\>\n",
    "    * 指定Redis最大内存限制, Redis在启动时会把数据加载到内存中, 达到最大内存后, Redis会先尝试清除已到期或即将到期的Key, 当此方法处理 后, 仍然到达最大内存设置, 将无法再进行写入操作, 但仍然可以进行读取操作. Redis新的vm机制, 会把Key存放内存, Value会存放在swap区.\n",
    "* appendonly no\n",
    "    * 指定是否在每次更新操作后进行日志记录, Redis在默认情况下是异步的把数据写入磁盘, 如果不开启, 可能会在断电时导致一段时间内的数据丢失. 因为 redis本身同步数据文件是按上面save条件来同步的, 所以有的数据会在一段时间内只存在于内存中. 默认为no.\n",
    "* appendfilename appendonly.aof\n",
    "    * 指定更新日志文件名, 默认为appendonly.aof.\n",
    "* appendfsync everysec\n",
    "    * 指定更新日志条件, 共有3个可选值: 1. no: 表示等操作系统进行数据缓存同步到磁盘(快) 2. always: 表示每次更新操作后手动调用fsync()将数据写到磁盘(慢, 安全) 3. everysec: 表示每秒同步一次(折衷, 默认值).\n",
    "* vm-enabled no\n",
    "    * 指定是否启用虚拟内存机制, 默认值为no, 简单的介绍一下, VM机制将数据分页存放, 由Redis将访问量较少的页即冷数据swap到磁盘上, 访问多的页面由磁盘自动换出到内存中(在后面的文章我会仔细分析Redis的VM机制).\n",
    "* vm-swap-file /tmp/redis.swap\n",
    "    * 虚拟内存文件路径, 默认值为/tmp/redis.swap, 不可多个Redis实例共享.\n",
    "* vm-max-memory 0\n",
    "    * 将所有大于vm-max-memory的数据存入虚拟内存, 无论vm-max-memory设置多小, 所有索引数据都是内存存储的(Redis的索引数据就是keys), 也就是说, 当vm-max-memory设置为0的时候,其实是所有value都存在于磁盘. 默认值为0.\n",
    "* vm-page-size 32\n",
    "    * Redis swap文件分成了很多的page, 一个对象可以保存在多个page上面, 但一个page上不能被多个对象共享, vm-page-size是要根据存储的数据大小来设定的, 作者建议如果存储很多小对象, page大小最好设置为32或者64bytes; 如果存储很大大对象, 则可以使用更大的page, 如果不 确定, 就使用默认值.\n",
    "* vm-pages 134217728\n",
    "    * 设置swap文件中的page数量, 由于页表(一种表示页面空闲或使用的bitmap)是在放在内存中的, 在磁盘上每8个pages将消耗1byte的内存.\n",
    "* vm-max-threads 4\n",
    "    * 设置访问swap文件的线程数, 最好不要超过机器的核数, 如果设置为0, 那么所有对swap文件的操作都是串行的, 可能会造成比较长时间的延迟. 默认值为4.\n",
    "* glueoutputbuf yes\n",
    "    * 设置在向客户端应答时, 是否把较小的包合并为一个包发送, 默认为开启.\n",
    "* hash-max-zipmap-entries 64\n",
    "* hash-max-zipmap-value 512\n",
    "    * 指定在超过一定的数量或者最大的元素超过某一临界值时, 采用一种特殊的哈希算法.\n",
    "* activerehashing yes\n",
    "    * 指定是否激活重置哈希, 默认为开启(后面在介绍Redis的哈希算法时具体介绍).\n",
    "* include /path/to/local.conf\n",
    "    * 指定包含其它的配置文件, 可以在同一主机上多个Redis实例之间使用同一份配置文件, 而同时各个实例又拥有自己的特定配置文件."
   ]
  },
  {
   "cell_type": "code",
   "execution_count": 3,
   "metadata": {},
   "outputs": [],
   "source": [
    "import redis\n",
    "\n",
    "pool = redis.ConnectionPool(password=\"k836867547\", decode_responses=True)\n",
    "r = redis.Redis(connection_pool=pool)"
   ]
  },
  {
   "cell_type": "markdown",
   "metadata": {},
   "source": [
    "### Redis所有命令\n",
    "##### 配置命令 :\n",
    "* config get *"
   ]
  },
  {
   "cell_type": "code",
   "execution_count": 9,
   "metadata": {
    "scrolled": true
   },
   "outputs": [
    {
     "data": {
      "text/plain": [
       "{'activerehashing': 'yes',\n",
       " 'aof-load-truncated': 'yes',\n",
       " 'aof-rewrite-incremental-fsync': 'yes',\n",
       " 'appendfsync': 'everysec',\n",
       " 'appendonly': 'no',\n",
       " 'auto-aof-rewrite-min-size': '67108864',\n",
       " 'auto-aof-rewrite-percentage': '100',\n",
       " 'bind': '',\n",
       " 'client-output-buffer-limit': 'normal 0 0 0 slave 268435456 67108864 60 pubsub 33554432 8388608 60',\n",
       " 'cluster-migration-barrier': '1',\n",
       " 'cluster-node-timeout': '15000',\n",
       " 'cluster-require-full-coverage': 'yes',\n",
       " 'cluster-slave-validity-factor': '10',\n",
       " 'daemonize': 'no',\n",
       " 'databases': '16',\n",
       " 'dbfilename': 'test.rdb',\n",
       " 'dir': '/home/rock/WorkSpace/MyDemo/SQLDemo',\n",
       " 'hash-max-ziplist-entries': '512',\n",
       " 'hash-max-ziplist-value': '64',\n",
       " 'hll-sparse-max-bytes': '3000',\n",
       " 'hz': '10',\n",
       " 'latency-monitor-threshold': '0',\n",
       " 'list-max-ziplist-entries': '512',\n",
       " 'list-max-ziplist-value': '64',\n",
       " 'logfile': '',\n",
       " 'loglevel': 'debug',\n",
       " 'lua-time-limit': '5000',\n",
       " 'masterauth': '',\n",
       " 'maxclients': '10000',\n",
       " 'maxmemory': '0',\n",
       " 'maxmemory-policy': 'noeviction',\n",
       " 'maxmemory-samples': '5',\n",
       " 'min-slaves-max-lag': '10',\n",
       " 'min-slaves-to-write': '0',\n",
       " 'no-appendfsync-on-rewrite': 'no',\n",
       " 'notify-keyspace-events': '',\n",
       " 'pidfile': '/var/run/redis.pid',\n",
       " 'port': '6379',\n",
       " 'rdbchecksum': 'yes',\n",
       " 'rdbcompression': 'yes',\n",
       " 'repl-backlog-size': '1048576',\n",
       " 'repl-backlog-ttl': '3600',\n",
       " 'repl-disable-tcp-nodelay': 'no',\n",
       " 'repl-diskless-sync': 'no',\n",
       " 'repl-diskless-sync-delay': '5',\n",
       " 'repl-ping-slave-period': '10',\n",
       " 'repl-timeout': '60',\n",
       " 'requirepass': 'k836867547',\n",
       " 'save': '3600 1 300 100 60 10000',\n",
       " 'set-max-intset-entries': '512',\n",
       " 'slave-priority': '100',\n",
       " 'slave-read-only': 'yes',\n",
       " 'slave-serve-stale-data': 'yes',\n",
       " 'slaveof': '',\n",
       " 'slowlog-log-slower-than': '10000',\n",
       " 'slowlog-max-len': '128',\n",
       " 'stop-writes-on-bgsave-error': 'yes',\n",
       " 'tcp-backlog': '511',\n",
       " 'tcp-keepalive': '0',\n",
       " 'timeout': '0',\n",
       " 'unixsocket': '',\n",
       " 'unixsocketperm': '0',\n",
       " 'watchdog-period': '0',\n",
       " 'zset-max-ziplist-entries': '128',\n",
       " 'zset-max-ziplist-value': '64'}"
      ]
     },
     "execution_count": 9,
     "metadata": {},
     "output_type": "execute_result"
    }
   ],
   "source": [
    "r.config_get(\"*\")"
   ]
  },
  {
   "cell_type": "markdown",
   "metadata": {},
   "source": [
    " * config set <config_name\\> <value\\>"
   ]
  },
  {
   "cell_type": "code",
   "execution_count": 8,
   "metadata": {
    "scrolled": true
   },
   "outputs": [
    {
     "data": {
      "text/plain": [
       "True"
      ]
     },
     "execution_count": 8,
     "metadata": {},
     "output_type": "execute_result"
    }
   ],
   "source": [
    "r.config_set(\"loglevel\", \"debug\")"
   ]
  },
  {
   "cell_type": "markdown",
   "metadata": {},
   "source": [
    "##### 键(key)命令 :\n",
    "* del <key\\>  该命令用于 key 存在时删除 key.\n",
    "#### Attention\n",
    "* 在Python里del方法被改为delete, 因为del与Python的命名方法的del重合了."
   ]
  },
  {
   "cell_type": "code",
   "execution_count": 13,
   "metadata": {},
   "outputs": [
    {
     "name": "stdout",
     "output_type": "stream",
     "text": [
      "hello world\n",
      "None\n"
     ]
    }
   ],
   "source": [
    "r.set(\"test\", \"hello world\")\n",
    "print(r.get(\"test\"))\n",
    "r.delete(\"test\")\n",
    "print(r.get(\"test\"))"
   ]
  },
  {
   "cell_type": "markdown",
   "metadata": {},
   "source": [
    "* dump <key\\>  序列化给定 key , 并返回被序列化的值.\n",
    "#### Attention\n",
    "* 这一条在Python里必须让返回值是bytes类型的数据, 所以连接的时候decode_responses必须为False."
   ]
  },
  {
   "cell_type": "code",
   "execution_count": 18,
   "metadata": {},
   "outputs": [
    {
     "data": {
      "text/plain": [
       "b\"\\n\\x1f\\x1f\\x00\\x00\\x00\\x16\\x00\\x00\\x00\\x03\\x00\\x00\\x04Alex\\x06\\x04Rock\\x06\\x06Amazon\\xff\\x06\\x00\\x7f\\x03\\xdb'\\xa7d\\xb5\\xcc\""
      ]
     },
     "execution_count": 18,
     "metadata": {},
     "output_type": "execute_result"
    }
   ],
   "source": [
    "r.set(\"test\", \"hello world\")\n",
    "r.dump(\"names\")\n",
    "r.delete(\"test\")"
   ]
  },
  {
   "cell_type": "markdown",
   "metadata": {},
   "source": [
    "* exists <key\\>  检查给定 key 是否存在."
   ]
  },
  {
   "cell_type": "code",
   "execution_count": 20,
   "metadata": {},
   "outputs": [
    {
     "name": "stdout",
     "output_type": "stream",
     "text": [
      "True\n",
      "False\n"
     ]
    }
   ],
   "source": [
    "r.set(\"test\", \"hello world\")\n",
    "print(r.exists(\"test\"))\n",
    "r.delete(\"test\")\n",
    "print(r.exists(\"test\"))"
   ]
  },
  {
   "cell_type": "markdown",
   "metadata": {},
   "source": [
    "* expire <key\\>  <seconds\\>  为给定 key 设置过期时间."
   ]
  },
  {
   "cell_type": "code",
   "execution_count": 130,
   "metadata": {},
   "outputs": [
    {
     "name": "stdout",
     "output_type": "stream",
     "text": [
      "100\n"
     ]
    },
    {
     "data": {
      "text/plain": [
       "1"
      ]
     },
     "execution_count": 130,
     "metadata": {},
     "output_type": "execute_result"
    }
   ],
   "source": [
    "r.set(\"test\", \"hello world\")\n",
    "r.expire(\"test\", 100)\n",
    "print(r.ttl(\"test\"))\n",
    "r.delete(\"test\")"
   ]
  },
  {
   "cell_type": "markdown",
   "metadata": {},
   "source": [
    "* expireat <key\\> <timestamp\\>  EXPIREAT 的作用和 EXPIRE 类似, 都用于为 key 设置过期时间. 不同在于 EXPIREAT 命令接受的时间参数是 UNIX 时间戳(unix timestamp)."
   ]
  },
  {
   "cell_type": "code",
   "execution_count": 129,
   "metadata": {},
   "outputs": [
    {
     "name": "stdout",
     "output_type": "stream",
     "text": [
      "21262526\n"
     ]
    },
    {
     "data": {
      "text/plain": [
       "1"
      ]
     },
     "execution_count": 129,
     "metadata": {},
     "output_type": "execute_result"
    }
   ],
   "source": [
    "r.set(\"test\", \"hello world\")\n",
    "r.expireat(\"test\", 1545366115)  #  过期时间: 2018年 - 12月 - 21日 - 12时 - 21分 - 55秒\n",
    "print(r.ttl(\"test\"))\n",
    "r.delete(\"test\")"
   ]
  },
  {
   "cell_type": "markdown",
   "metadata": {},
   "source": [
    "* pexpire <key\\> <milliseconds\\>  设置 key 的过期时间以毫秒计."
   ]
  },
  {
   "cell_type": "code",
   "execution_count": 128,
   "metadata": {},
   "outputs": [
    {
     "name": "stdout",
     "output_type": "stream",
     "text": [
      "10\n"
     ]
    },
    {
     "data": {
      "text/plain": [
       "1"
      ]
     },
     "execution_count": 128,
     "metadata": {},
     "output_type": "execute_result"
    }
   ],
   "source": [
    "r.set(\"test\", \"hello world\")\n",
    "r.pexpire(\"test\", 10000)\n",
    "print(r.ttl(\"test\"))\n",
    "r.delete(\"test\")"
   ]
  },
  {
   "cell_type": "markdown",
   "metadata": {},
   "source": [
    " * pexpireat <key\\> <milliseconds-timestamp\\>  设置 key 过期时间的时间戳(unix timestamp)以毫秒计."
   ]
  },
  {
   "cell_type": "code",
   "execution_count": 323,
   "metadata": {},
   "outputs": [
    {
     "name": "stdout",
     "output_type": "stream",
     "text": [
      "31363425\n"
     ]
    },
    {
     "data": {
      "text/plain": [
       "1"
      ]
     },
     "execution_count": 323,
     "metadata": {},
     "output_type": "execute_result"
    }
   ],
   "source": [
    "r.set(\"test\", \"hello world\")\n",
    "r.pexpireat(\"test\", 1555555555005) \n",
    "print(r.ttl(\"test\"))\n",
    "r.delete(\"test\")"
   ]
  },
  {
   "cell_type": "markdown",
   "metadata": {},
   "source": [
    "* keys <pattern\\>  查找所有符合给定模式( pattern, key的name.)的 key."
   ]
  },
  {
   "cell_type": "code",
   "execution_count": 97,
   "metadata": {},
   "outputs": [
    {
     "name": "stdout",
     "output_type": "stream",
     "text": [
      "['test']\n",
      "['test', 'name']\n"
     ]
    },
    {
     "data": {
      "text/plain": [
       "1"
      ]
     },
     "execution_count": 97,
     "metadata": {},
     "output_type": "execute_result"
    }
   ],
   "source": [
    "r.set(\"test\", \"hello world\")\n",
    "print(r.keys(\"test\"))\n",
    "print(r.keys())\n",
    "r.delete(\"test\")"
   ]
  },
  {
   "cell_type": "markdown",
   "metadata": {},
   "source": [
    "* move <key\\> <db\\>  将当前数据库的 key 移动到给定的数据库 db 当中.\n",
    "* persist <key\\>  移除 key 的过期时间, key 将持久保持."
   ]
  },
  {
   "cell_type": "code",
   "execution_count": 119,
   "metadata": {},
   "outputs": [
    {
     "name": "stdout",
     "output_type": "stream",
     "text": [
      "100\n",
      "None\n"
     ]
    },
    {
     "data": {
      "text/plain": [
       "1"
      ]
     },
     "execution_count": 119,
     "metadata": {},
     "output_type": "execute_result"
    }
   ],
   "source": [
    "r.set(\"test\", \"hello world\")\n",
    "r.expire(\"test\", 100)\n",
    "print(r.ttl(\"test\"))\n",
    "r.persist(\"test\")\n",
    "print(r.ttl(\"test\"))\n",
    "r.delete(\"test\")"
   ]
  },
  {
   "cell_type": "markdown",
   "metadata": {},
   "source": [
    "* pttl <key\\>  以毫秒为单位返回 key 的剩余的过期时间."
   ]
  },
  {
   "cell_type": "code",
   "execution_count": 126,
   "metadata": {},
   "outputs": [
    {
     "name": "stdout",
     "output_type": "stream",
     "text": [
      "99999\n"
     ]
    },
    {
     "data": {
      "text/plain": [
       "1"
      ]
     },
     "execution_count": 126,
     "metadata": {},
     "output_type": "execute_result"
    }
   ],
   "source": [
    "r.set(\"test\", \"hello world\")\n",
    "r.expire(\"test\", 100)\n",
    "print(r.pttl(\"test\"))\n",
    "r.delete(\"test\")"
   ]
  },
  {
   "cell_type": "markdown",
   "metadata": {},
   "source": [
    "* ttl <key\\>  以秒为单位, 返回给定 key 的剩余生存时间(ttl, time to live)."
   ]
  },
  {
   "cell_type": "code",
   "execution_count": 131,
   "metadata": {},
   "outputs": [
    {
     "name": "stdout",
     "output_type": "stream",
     "text": [
      "100\n"
     ]
    },
    {
     "data": {
      "text/plain": [
       "1"
      ]
     },
     "execution_count": 131,
     "metadata": {},
     "output_type": "execute_result"
    }
   ],
   "source": [
    "r.set(\"test\", \"hello world\")\n",
    "r.expire(\"test\", 100)\n",
    "print(r.ttl(\"test\"))\n",
    "r.delete(\"test\")"
   ]
  },
  {
   "cell_type": "markdown",
   "metadata": {},
   "source": [
    " * randomkey  从当前数据库中随机返回一个 key."
   ]
  },
  {
   "cell_type": "code",
   "execution_count": 137,
   "metadata": {},
   "outputs": [
    {
     "name": "stdout",
     "output_type": "stream",
     "text": [
      "name3\n"
     ]
    }
   ],
   "source": [
    "print(r.randomkey())"
   ]
  },
  {
   "cell_type": "markdown",
   "metadata": {},
   "source": [
    "* rename <key\\> <newkey\\>  修改 key 的名称."
   ]
  },
  {
   "cell_type": "code",
   "execution_count": 138,
   "metadata": {},
   "outputs": [
    {
     "name": "stdout",
     "output_type": "stream",
     "text": [
      "[None, 'hello world']\n",
      "['hello world', None]\n"
     ]
    },
    {
     "data": {
      "text/plain": [
       "1"
      ]
     },
     "execution_count": 138,
     "metadata": {},
     "output_type": "execute_result"
    }
   ],
   "source": [
    "r.set(\"test1\", \"hello world\")\n",
    "print(r.mget(\"test\", \"test1\"))\n",
    "r.rename(\"test1\", \"test\")\n",
    "print(r.mget(\"test\", \"test1\"))\n",
    "r.delete(\"test\")"
   ]
  },
  {
   "cell_type": "markdown",
   "metadata": {},
   "source": [
    " * renamenx <key\\> <newkey\\>  仅当 newkey 不存在时, 将 key 改名为 newkey."
   ]
  },
  {
   "cell_type": "code",
   "execution_count": 142,
   "metadata": {},
   "outputs": [
    {
     "name": "stdout",
     "output_type": "stream",
     "text": [
      "['hello Rock', 'hello world', 'hello Rock']\n",
      "['hello Rock', 'hello world', 'hello Rock']\n",
      "['hello Rock', 'hello world', 'hello Rock']\n"
     ]
    },
    {
     "data": {
      "text/plain": [
       "2"
      ]
     },
     "execution_count": 142,
     "metadata": {},
     "output_type": "execute_result"
    }
   ],
   "source": [
    "r.mset({\"test1\": \"hello world\", \"test2\": \"hello Rock\"})\n",
    "print(r.mget(\"test\", \"test1\", \"test2\"))\n",
    "r.renamenx(\"test2\", \"test1\")\n",
    "print(r.mget(\"test\", \"test1\", \"test2\"))\n",
    "r.renamenx(\"test2\", \"test\")\n",
    "print(r.mget(\"test\", \"test1\", \"test2\"))\n",
    "r.delete(\"test\", \"test1\")"
   ]
  },
  {
   "cell_type": "markdown",
   "metadata": {},
   "source": [
    "* type <key\\>  返回 key 所储存的值的类型."
   ]
  },
  {
   "cell_type": "code",
   "execution_count": 219,
   "metadata": {},
   "outputs": [
    {
     "name": "stdout",
     "output_type": "stream",
     "text": [
      "string list\n"
     ]
    },
    {
     "data": {
      "text/plain": [
       "2"
      ]
     },
     "execution_count": 219,
     "metadata": {},
     "output_type": "execute_result"
    }
   ],
   "source": [
    "r.set(\"test\", \"hello world\")\n",
    "r.lpush(\"push\", \"test\")\n",
    "print(r.type(\"test\"), r.type(\"push\"))\n",
    "r.delete(\"test\", \"push\")"
   ]
  },
  {
   "cell_type": "markdown",
   "metadata": {},
   "source": [
    "##### 字符串(string)命令 :\n",
    "* set <key\\> <value\\>  设置指定 key 的值.\n",
    "* get <key\\> 获取指定 key 的值."
   ]
  },
  {
   "cell_type": "code",
   "execution_count": 155,
   "metadata": {},
   "outputs": [
    {
     "name": "stdout",
     "output_type": "stream",
     "text": [
      "hello world\n"
     ]
    },
    {
     "data": {
      "text/plain": [
       "1"
      ]
     },
     "execution_count": 155,
     "metadata": {},
     "output_type": "execute_result"
    }
   ],
   "source": [
    "r.set(\"test\", \"hello world\")\n",
    "print(r.get(\"test\"))\n",
    "r.delete(\"test\")"
   ]
  },
  {
   "cell_type": "markdown",
   "metadata": {},
   "source": [
    "* getrange <key\\> <start\\> <end\\>  返回 key 中字符串值的子字符.\n",
    "#### Attention\n",
    "* 这个是包前也包尾的."
   ]
  },
  {
   "cell_type": "code",
   "execution_count": 159,
   "metadata": {},
   "outputs": [
    {
     "name": "stdout",
     "output_type": "stream",
     "text": [
      "hello\n"
     ]
    },
    {
     "data": {
      "text/plain": [
       "1"
      ]
     },
     "execution_count": 159,
     "metadata": {},
     "output_type": "execute_result"
    }
   ],
   "source": [
    "r.set(\"test\", \"hello world\")\n",
    "print(r.getrange(\"test\", 0, 4))\n",
    "r.delete(\"test\")"
   ]
  },
  {
   "cell_type": "markdown",
   "metadata": {},
   "source": [
    "* getset <key\\> <value\\>  将给定 key 的值设为 value , 并返回 key 的旧值(old value)."
   ]
  },
  {
   "cell_type": "code",
   "execution_count": 163,
   "metadata": {},
   "outputs": [
    {
     "name": "stdout",
     "output_type": "stream",
     "text": [
      "hello world\n",
      "hello Rock\n"
     ]
    },
    {
     "data": {
      "text/plain": [
       "1"
      ]
     },
     "execution_count": 163,
     "metadata": {},
     "output_type": "execute_result"
    }
   ],
   "source": [
    "r.set(\"test\", \"hello world\")\n",
    "print(r.getset(\"test\", \"hello Rock\"))\n",
    "print(r.get(\"test\"))\n",
    "r.delete(\"test\")"
   ]
  },
  {
   "cell_type": "markdown",
   "metadata": {},
   "source": [
    "* getbit <key\\> <offset\\>  对 key 所储存的字符串值, 获取指定偏移量上的位(bit)."
   ]
  },
  {
   "cell_type": "code",
   "execution_count": 178,
   "metadata": {},
   "outputs": [
    {
     "name": "stdout",
     "output_type": "stream",
     "text": [
      "1\n"
     ]
    }
   ],
   "source": [
    "r.set(\"test\", \"hello world\")\n",
    "print(r.getbit(\"test\", 2))"
   ]
  },
  {
   "cell_type": "markdown",
   "metadata": {},
   "source": [
    "* mget <key1\\> [<key2\\>...]  获取所有(一个或多个)给定 key 的值."
   ]
  },
  {
   "cell_type": "code",
   "execution_count": 181,
   "metadata": {},
   "outputs": [
    {
     "name": "stdout",
     "output_type": "stream",
     "text": [
      "['hello world', 'hello Rock', 'hello Mr.Johnson']\n"
     ]
    },
    {
     "data": {
      "text/plain": [
       "3"
      ]
     },
     "execution_count": 181,
     "metadata": {},
     "output_type": "execute_result"
    }
   ],
   "source": [
    "r.mset({\"test1\": \"hello world\", \"test2\": \"hello Rock\", \"test3\": \"hello Mr.Johnson\"})\n",
    "print(r.mget(\"test1\", \"test2\", \"test3\"))\n",
    "r.delete(\"test1\", \"test2\", \"test3\")"
   ]
  },
  {
   "cell_type": "markdown",
   "metadata": {},
   "source": [
    "* setbit <key\\> <offset\\> <value\\>  对 key 所储存的字符串值, 设置或清除指定偏移量上的位(bit)."
   ]
  },
  {
   "cell_type": "code",
   "execution_count": 200,
   "metadata": {},
   "outputs": [
    {
     "name": "stdout",
     "output_type": "stream",
     "text": [
      "1\n"
     ]
    },
    {
     "data": {
      "text/plain": [
       "1"
      ]
     },
     "execution_count": 200,
     "metadata": {},
     "output_type": "execute_result"
    }
   ],
   "source": [
    "r.setbit(\"test\", 2, \"h\")\n",
    "print(r.getbit(\"test\", 2))\n",
    "r.delete(\"test\")"
   ]
  },
  {
   "cell_type": "markdown",
   "metadata": {},
   "source": [
    "* setex <key\\> <value\\> <seconds\\>  将值 value 关联到 key , 并将 key 的过期时间设为 seconds (以秒为单位)."
   ]
  },
  {
   "cell_type": "code",
   "execution_count": 204,
   "metadata": {},
   "outputs": [
    {
     "name": "stdout",
     "output_type": "stream",
     "text": [
      "100\n"
     ]
    },
    {
     "data": {
      "text/plain": [
       "1"
      ]
     },
     "execution_count": 204,
     "metadata": {},
     "output_type": "execute_result"
    }
   ],
   "source": [
    "r.setex(\"test\", \"hello world\", 100)\n",
    "print(r.ttl(\"test\"))\n",
    "r.delete(\"test\")"
   ]
  },
  {
   "cell_type": "markdown",
   "metadata": {},
   "source": [
    "* setnx <key\\> <value\\>  只有在 key 不存在时设置 key 的值."
   ]
  },
  {
   "cell_type": "code",
   "execution_count": 207,
   "metadata": {},
   "outputs": [
    {
     "name": "stdout",
     "output_type": "stream",
     "text": [
      "['hello world', None]\n",
      "['hello world', 'hello Rock']\n"
     ]
    },
    {
     "data": {
      "text/plain": [
       "2"
      ]
     },
     "execution_count": 207,
     "metadata": {},
     "output_type": "execute_result"
    }
   ],
   "source": [
    "r.set(\"test\", \"hello world\")\n",
    "r.setnx(\"test\", \"hello Rock\")\n",
    "print(r.mget(\"test\", \"test1\"))\n",
    "r.setnx(\"test1\", \"hello Rock\")\n",
    "print(r.mget(\"test\", \"test1\"))\n",
    "r.delete(\"test\", \"test1\")"
   ]
  },
  {
   "cell_type": "markdown",
   "metadata": {},
   "source": [
    "* setrange <key\\> <offset\\> <value\\>  用 value 参数覆写给定 key 所储存的字符串值, 从偏移量 offset 开始."
   ]
  },
  {
   "cell_type": "code",
   "execution_count": 211,
   "metadata": {},
   "outputs": [
    {
     "name": "stdout",
     "output_type": "stream",
     "text": [
      "hello world\n",
      "hello Rockd\n"
     ]
    },
    {
     "data": {
      "text/plain": [
       "1"
      ]
     },
     "execution_count": 211,
     "metadata": {},
     "output_type": "execute_result"
    }
   ],
   "source": [
    "r.set(\"test\", \"hello world\")\n",
    "print(r.get(\"test\"))\n",
    "r.setrange(\"test\", 6, \"Rock\")\n",
    "print(r.get(\"test\"))\n",
    "r.delete(\"test\")"
   ]
  },
  {
   "cell_type": "markdown",
   "metadata": {},
   "source": [
    "* strlen <key\\>  返回 key 所储存的字符串值的长度."
   ]
  },
  {
   "cell_type": "markdown",
   "metadata": {},
   "source": []
  },
  {
   "cell_type": "code",
   "execution_count": 212,
   "metadata": {},
   "outputs": [
    {
     "name": "stdout",
     "output_type": "stream",
     "text": [
      "11\n"
     ]
    },
    {
     "data": {
      "text/plain": [
       "1"
      ]
     },
     "execution_count": 212,
     "metadata": {},
     "output_type": "execute_result"
    }
   ],
   "source": [
    "r.set(\"test\", \"hello world\")\n",
    "print(r.strlen(\"test\"))\n",
    "r.delete(\"test\")"
   ]
  },
  {
   "cell_type": "markdown",
   "metadata": {},
   "source": [
    "* mset <key\\> <value\\> [<key\\> <value\\>...]  同时设置一个或多个 key-value 对."
   ]
  },
  {
   "cell_type": "code",
   "execution_count": 214,
   "metadata": {},
   "outputs": [
    {
     "name": "stdout",
     "output_type": "stream",
     "text": [
      "['hello world', 'hello Rock']\n"
     ]
    },
    {
     "data": {
      "text/plain": [
       "2"
      ]
     },
     "execution_count": 214,
     "metadata": {},
     "output_type": "execute_result"
    }
   ],
   "source": [
    "r.mset({\"test1\": \"hello world\", \"test2\": \"hello Rock\"})\n",
    "print(r.mget(\"test1\", \"test2\"))\n",
    "r.delete(\"test1\", \"test2\")"
   ]
  },
  {
   "cell_type": "markdown",
   "metadata": {},
   "source": [
    "* msetnx <key\\> <value\\> [<key\\> <value\\>...]  同时设置一个或多个 key-value 对, 当且仅当所有给定 key 都不存在."
   ]
  },
  {
   "cell_type": "code",
   "execution_count": 223,
   "metadata": {},
   "outputs": [
    {
     "name": "stdout",
     "output_type": "stream",
     "text": [
      "['hello world', None, None]\n",
      "['hello world', None, None]\n",
      "['hello world', 'hello Johnson', 'hello Alex']\n"
     ]
    },
    {
     "data": {
      "text/plain": [
       "3"
      ]
     },
     "execution_count": 223,
     "metadata": {},
     "output_type": "execute_result"
    }
   ],
   "source": [
    "r.set(\"test1\", \"hello world\")\n",
    "print(r.mget(\"test1\", \"test2\", \"test3\"))\n",
    "r.msetnx({\"test1\": \"hello Rock\", \"test2\": \"hello Johnson\", \"test3\": \"hello Alex\"})\n",
    "print(r.mget(\"test1\", \"test2\", \"test3\"))\n",
    "r.msetnx({\"test2\": \"hello Johnson\", \"test3\": \"hello Alex\"})\n",
    "print(r.mget(\"test1\", \"test2\", \"test3\"))\n",
    "r.delete(\"test1\", \"test2\", \"test3\")"
   ]
  },
  {
   "cell_type": "markdown",
   "metadata": {},
   "source": [
    "* psetex <key\\> <milliseconds\\> <value\\>  这个命令和 SETEX 命令相似, 但它以毫秒为单位设置 key 的生存时间, 而不是像 SETEX 命令那样, 以秒为单位."
   ]
  },
  {
   "cell_type": "code",
   "execution_count": 225,
   "metadata": {},
   "outputs": [
    {
     "name": "stdout",
     "output_type": "stream",
     "text": [
      "10\n"
     ]
    },
    {
     "data": {
      "text/plain": [
       "1"
      ]
     },
     "execution_count": 225,
     "metadata": {},
     "output_type": "execute_result"
    }
   ],
   "source": [
    "r.psetex(\"test\", 10000, \"hello world\")\n",
    "print(r.ttl(\"test\"))\n",
    "r.delete(\"test\")"
   ]
  },
  {
   "cell_type": "markdown",
   "metadata": {},
   "source": [
    "* incr <key\\>  将 key 中储存的数字值加一."
   ]
  },
  {
   "cell_type": "code",
   "execution_count": 324,
   "metadata": {},
   "outputs": [
    {
     "name": "stdout",
     "output_type": "stream",
     "text": [
      "10\n",
      "11\n"
     ]
    },
    {
     "data": {
      "text/plain": [
       "1"
      ]
     },
     "execution_count": 324,
     "metadata": {},
     "output_type": "execute_result"
    }
   ],
   "source": [
    "# r.set(\"test\", \"hello world\")  # value不能转成数字就会报错\n",
    "r.set(\"test\", \"10\")\n",
    "print(r.get(\"test\"))\n",
    "r.incr(\"test\")\n",
    "print(r.get(\"test\"))\n",
    "r.delete(\"test\")"
   ]
  },
  {
   "cell_type": "markdown",
   "metadata": {},
   "source": [
    "* incrby <key\\> <increment\\>  将 key 所储存的值加上给定的增量值(increment)."
   ]
  },
  {
   "cell_type": "code",
   "execution_count": 230,
   "metadata": {},
   "outputs": [
    {
     "name": "stdout",
     "output_type": "stream",
     "text": [
      "20\n",
      "5\n"
     ]
    },
    {
     "data": {
      "text/plain": [
       "1"
      ]
     },
     "execution_count": 230,
     "metadata": {},
     "output_type": "execute_result"
    }
   ],
   "source": [
    "r.set(\"test\", \"20\")\n",
    "print(r.get(\"test\"))\n",
    "r.incrby(\"test\", \"-15\")  # 加不加引号都可以\n",
    "print(r.get(\"test\"))\n",
    "r.delete(\"test\")"
   ]
  },
  {
   "cell_type": "markdown",
   "metadata": {},
   "source": [
    "* incrbyfloat <key\\> <increment\\>  将 key 所储存的值加上给定的浮点增量值(increment)."
   ]
  },
  {
   "cell_type": "code",
   "execution_count": 231,
   "metadata": {},
   "outputs": [
    {
     "name": "stdout",
     "output_type": "stream",
     "text": [
      "25\n",
      "12.5\n"
     ]
    },
    {
     "data": {
      "text/plain": [
       "1"
      ]
     },
     "execution_count": 231,
     "metadata": {},
     "output_type": "execute_result"
    }
   ],
   "source": [
    "r.set(\"test\", \"25\")\n",
    "print(r.get(\"test\"))\n",
    "r.incrbyfloat(\"test\", \"-12.5\")\n",
    "print(r.get(\"test\"))\n",
    "r.delete(\"test\")"
   ]
  },
  {
   "cell_type": "markdown",
   "metadata": {},
   "source": [
    "* decr <key\\>  将 key 中储存的数字值减一."
   ]
  },
  {
   "cell_type": "code",
   "execution_count": 232,
   "metadata": {},
   "outputs": [
    {
     "name": "stdout",
     "output_type": "stream",
     "text": [
      "21\n",
      "20\n"
     ]
    },
    {
     "data": {
      "text/plain": [
       "1"
      ]
     },
     "execution_count": 232,
     "metadata": {},
     "output_type": "execute_result"
    }
   ],
   "source": [
    "r.set(\"test\", \"21\")\n",
    "print(r.get(\"test\"))\n",
    "r.decr(\"test\")\n",
    "print(r.get(\"test\"))\n",
    "r.delete(\"test\")"
   ]
  },
  {
   "cell_type": "markdown",
   "metadata": {},
   "source": [
    "* decrby <key\\> <decrement\\>  key 所储存的值减去给定的减量值(decrement).\n",
    "#### Attention\n",
    "* 在Python里, decrby方法和decr合并了, 但在redis-cli客户端里还是使用decrby."
   ]
  },
  {
   "cell_type": "code",
   "execution_count": 234,
   "metadata": {},
   "outputs": [
    {
     "name": "stdout",
     "output_type": "stream",
     "text": [
      "19\n",
      "20\n"
     ]
    },
    {
     "data": {
      "text/plain": [
       "1"
      ]
     },
     "execution_count": 234,
     "metadata": {},
     "output_type": "execute_result"
    }
   ],
   "source": [
    "r.set(\"test\", \"19\")\n",
    "print(r.get(\"test\"))\n",
    "r.decr(\"test\", \"-1\")\n",
    "print(r.get(\"test\"))\n",
    "r.delete(\"test\")"
   ]
  },
  {
   "cell_type": "markdown",
   "metadata": {},
   "source": [
    "* append <key\\> <value\\>  如果 key 已经存在并且是一个字符串, APPEND 命令将 value 追加到 key 原来的值的末尾."
   ]
  },
  {
   "cell_type": "code",
   "execution_count": 235,
   "metadata": {},
   "outputs": [
    {
     "name": "stdout",
     "output_type": "stream",
     "text": [
      "hello world\n",
      "[\"hello world, I'm boy.\", 'hello']\n"
     ]
    },
    {
     "data": {
      "text/plain": [
       "2"
      ]
     },
     "execution_count": 235,
     "metadata": {},
     "output_type": "execute_result"
    }
   ],
   "source": [
    "r.set(\"test\", \"hello world\")\n",
    "print(r.get(\"test\"))\n",
    "r.append(\"test\", \", I'm boy.\")\n",
    "r.append(\"test1\", \"hello\")\n",
    "print(r.mget(\"test\", \"test1\"))\n",
    "r.delete(\"test\", \"test1\")"
   ]
  },
  {
   "cell_type": "markdown",
   "metadata": {},
   "source": [
    "##### 哈希(Hash)命令 :\n",
    "* hset <key\\> <field\\> <value\\>  将哈希表 key 中的字段 field 的值设为 value.\n",
    "* hdel <key\\> <field1\\> <field2\\>  删除一个或多个哈希表字段"
   ]
  },
  {
   "cell_type": "code",
   "execution_count": 240,
   "metadata": {},
   "outputs": [
    {
     "name": "stdout",
     "output_type": "stream",
     "text": [
      "{'name': 'Rock'}\n",
      "{}\n"
     ]
    }
   ],
   "source": [
    "r.hset(\"test\", \"name\", \"Rock\")\n",
    "print(r.hgetall(\"test\"))\n",
    "r.hdel(\"test\", \"name\")\n",
    "print(r.hgetall(\"test\"))"
   ]
  },
  {
   "cell_type": "markdown",
   "metadata": {},
   "source": [
    "* hexists <key\\> <field\\>  查看哈希表 key 中, 指定的字段是否存在."
   ]
  },
  {
   "cell_type": "code",
   "execution_count": 242,
   "metadata": {},
   "outputs": [
    {
     "name": "stdout",
     "output_type": "stream",
     "text": [
      "True\n",
      "False\n"
     ]
    },
    {
     "data": {
      "text/plain": [
       "1"
      ]
     },
     "execution_count": 242,
     "metadata": {},
     "output_type": "execute_result"
    }
   ],
   "source": [
    "r.hset(\"test\", \"name\", \"Rock\")\n",
    "print(r.hexists(\"test\", \"name\"))\n",
    "print(r.hexists(\"test\", \"age\"))\n",
    "r.delete(\"test\")"
   ]
  },
  {
   "cell_type": "markdown",
   "metadata": {},
   "source": [
    "* hget <key\\> <field\\>  获取存储在哈希表中指定字段的值."
   ]
  },
  {
   "cell_type": "code",
   "execution_count": 243,
   "metadata": {},
   "outputs": [
    {
     "name": "stdout",
     "output_type": "stream",
     "text": [
      "Rock\n"
     ]
    },
    {
     "data": {
      "text/plain": [
       "1"
      ]
     },
     "execution_count": 243,
     "metadata": {},
     "output_type": "execute_result"
    }
   ],
   "source": [
    "r.hset(\"test\", \"name\", \"Rock\")\n",
    "print(r.hget(\"test\", \"name\"))\n",
    "r.delete(\"test\")"
   ]
  },
  {
   "cell_type": "markdown",
   "metadata": {},
   "source": [
    "* hgetall <key\\>  获取在哈希表中指定 key 的所有字段和值."
   ]
  },
  {
   "cell_type": "code",
   "execution_count": 244,
   "metadata": {},
   "outputs": [
    {
     "name": "stdout",
     "output_type": "stream",
     "text": [
      "{'age': '18', 'name': 'Rock'}\n"
     ]
    },
    {
     "data": {
      "text/plain": [
       "1"
      ]
     },
     "execution_count": 244,
     "metadata": {},
     "output_type": "execute_result"
    }
   ],
   "source": [
    "r.hset(\"test\", \"name\", \"Rock\")\n",
    "r.hset(\"test\", \"age\", \"18\")\n",
    "print(r.hgetall(\"test\"))\n",
    "r.delete(\"test\")"
   ]
  },
  {
   "cell_type": "markdown",
   "metadata": {},
   "source": [
    "* hincrby <key\\> <field\\> <increment\\>  为哈希表 key 中的指定字段的整数值加上增量 increment."
   ]
  },
  {
   "cell_type": "code",
   "execution_count": 245,
   "metadata": {},
   "outputs": [
    {
     "name": "stdout",
     "output_type": "stream",
     "text": [
      "18\n",
      "23\n"
     ]
    },
    {
     "data": {
      "text/plain": [
       "1"
      ]
     },
     "execution_count": 245,
     "metadata": {},
     "output_type": "execute_result"
    }
   ],
   "source": [
    "r.hset(\"test\", \"age\", \"18\")\n",
    "print(r.hget(\"test\", \"age\"))\n",
    "r.hincrby(\"test\", \"age\", 5)\n",
    "print(r.hget(\"test\", \"age\"))\n",
    "r.delete(\"test\")"
   ]
  },
  {
   "cell_type": "markdown",
   "metadata": {},
   "source": [
    "* hincrbyfloat <key\\> <field\\> <increment\\>  为哈希表 key 中的指定字段的浮点数值加上增量 increment."
   ]
  },
  {
   "cell_type": "code",
   "execution_count": 251,
   "metadata": {},
   "outputs": [
    {
     "name": "stdout",
     "output_type": "stream",
     "text": [
      "{'money': '54.5'}\n",
      "{'money': '59.7'}\n"
     ]
    },
    {
     "data": {
      "text/plain": [
       "1"
      ]
     },
     "execution_count": 251,
     "metadata": {},
     "output_type": "execute_result"
    }
   ],
   "source": [
    "r.hset(\"test\", \"money\", \"54.5\")\n",
    "print(r.hgetall(\"test\"))\n",
    "r.hincrbyfloat(\"test\", \"money\", 5.2)\n",
    "print(r.hgetall(\"test\"))\n",
    "r.delete(\"test\")"
   ]
  },
  {
   "cell_type": "markdown",
   "metadata": {},
   "source": [
    "* hkeys <key\\>  获取所有哈希表中的字段."
   ]
  },
  {
   "cell_type": "code",
   "execution_count": 254,
   "metadata": {},
   "outputs": [
    {
     "name": "stdout",
     "output_type": "stream",
     "text": [
      "['age', 'sex', 'name']\n"
     ]
    },
    {
     "data": {
      "text/plain": [
       "1"
      ]
     },
     "execution_count": 254,
     "metadata": {},
     "output_type": "execute_result"
    }
   ],
   "source": [
    "r.hmset(\"test\", {\"name\": \"Rock\", \"age\": \"18\", \"sex\": \"男\"})\n",
    "print(r.hkeys(\"test\"))\n",
    "r.delete(\"test\")"
   ]
  },
  {
   "cell_type": "markdown",
   "metadata": {},
   "source": [
    "* hlen <key\\>  获取哈希表中字段的数量."
   ]
  },
  {
   "cell_type": "code",
   "execution_count": 255,
   "metadata": {},
   "outputs": [
    {
     "name": "stdout",
     "output_type": "stream",
     "text": [
      "3\n"
     ]
    },
    {
     "data": {
      "text/plain": [
       "1"
      ]
     },
     "execution_count": 255,
     "metadata": {},
     "output_type": "execute_result"
    }
   ],
   "source": [
    "r.hmset(\"test\", {\"name\": \"Rock\", \"age\": \"18\", \"sex\": \"男\"})\n",
    "print(r.hlen(\"test\"))\n",
    "r.delete(\"test\")"
   ]
  },
  {
   "cell_type": "markdown",
   "metadata": {},
   "source": [
    "* hmset <key\\> <field1\\> <value1\\> [<field2\\> <value2\\>]  同时将多个 field-value (域-值)对设置到哈希表 key 中.\n",
    "* hmget <key\\> <field1\\> [<field2\\>]  获取所有给定字段的值."
   ]
  },
  {
   "cell_type": "code",
   "execution_count": 256,
   "metadata": {},
   "outputs": [
    {
     "name": "stdout",
     "output_type": "stream",
     "text": [
      "['Rock', '18', '男']\n"
     ]
    },
    {
     "data": {
      "text/plain": [
       "1"
      ]
     },
     "execution_count": 256,
     "metadata": {},
     "output_type": "execute_result"
    }
   ],
   "source": [
    "r.hmset(\"test\", {\"name\": \"Rock\", \"age\": \"18\", \"sex\": \"男\"})\n",
    "print(r.hmget(\"test\", \"name\", \"age\", \"sex\"))\n",
    "r.delete(\"test\")"
   ]
  },
  {
   "cell_type": "markdown",
   "metadata": {},
   "source": [
    "* hsetnx <key\\> <field\\> <value\\>  只有在字段 field 不存在时，设置哈希表字段的值."
   ]
  },
  {
   "cell_type": "code",
   "execution_count": 257,
   "metadata": {},
   "outputs": [
    {
     "name": "stdout",
     "output_type": "stream",
     "text": [
      "{'name': 'Rock'}\n",
      "{'name': 'Rock'}\n",
      "{'age': '18', 'name': 'Rock'}\n"
     ]
    },
    {
     "data": {
      "text/plain": [
       "1"
      ]
     },
     "execution_count": 257,
     "metadata": {},
     "output_type": "execute_result"
    }
   ],
   "source": [
    "r.hset(\"test\", \"name\", \"Rock\")\n",
    "print(r.hgetall(\"test\"))\n",
    "r.hsetnx(\"test\", \"name\", \"Alex\")\n",
    "print(r.hgetall(\"test\"))\n",
    "r.hsetnx(\"test\", \"age\", \"18\")\n",
    "print(r.hgetall(\"test\"))\n",
    "r.delete(\"test\")"
   ]
  },
  {
   "cell_type": "markdown",
   "metadata": {},
   "source": [
    "* hvals <key\\>  获取哈希表中所有值."
   ]
  },
  {
   "cell_type": "code",
   "execution_count": 260,
   "metadata": {},
   "outputs": [
    {
     "name": "stdout",
     "output_type": "stream",
     "text": [
      "['18', '男', 'Rock']\n"
     ]
    },
    {
     "data": {
      "text/plain": [
       "1"
      ]
     },
     "execution_count": 260,
     "metadata": {},
     "output_type": "execute_result"
    }
   ],
   "source": [
    "r.hmset(\"test\", {\"name\": \"Rock\", \"age\": \"18\", \"sex\": \"男\"})\n",
    "print(r.hvals(\"test\"))\n",
    "r.delete(\"test\")"
   ]
  },
  {
   "cell_type": "markdown",
   "metadata": {},
   "source": [
    "* hscan <key\\> <cursor\\> [match <pattern\\>] [count <count\\>]  迭代哈希表中的键值对."
   ]
  },
  {
   "cell_type": "code",
   "execution_count": 281,
   "metadata": {},
   "outputs": [
    {
     "name": "stdout",
     "output_type": "stream",
     "text": [
      "(0, {'name': 'Rock'})\n",
      "(0, {'age': '18', 'sex': '男', 'name': 'Rock'})\n"
     ]
    },
    {
     "data": {
      "text/plain": [
       "1"
      ]
     },
     "execution_count": 281,
     "metadata": {},
     "output_type": "execute_result"
    }
   ],
   "source": [
    "r.hmset(\"test\", {\"name\": \"Rock\", \"age\": \"18\", \"sex\": \"男\"})\n",
    "print(r.hscan(\"test\", match=\"name\"))\n",
    "print(r.hscan(\"test\", count=5))\n",
    "r.delete(\"test\")"
   ]
  },
  {
   "cell_type": "markdown",
   "metadata": {},
   "source": [
    "##### 列表(List)命令 :\n",
    "* lpush <key\\> <value1\\> [<value2\\>]  将一个或多个值插入到列表头部.\n",
    "* blpop <key1\\> [<key2\\>] <timeout\\>  移出并获取列表的第一个元素, 如果列表没有元素会阻塞列表直到等待超时或发现可弹出元素为止."
   ]
  },
  {
   "cell_type": "code",
   "execution_count": 284,
   "metadata": {},
   "outputs": [
    {
     "name": "stdout",
     "output_type": "stream",
     "text": [
      "['hello Johnson', 'hello world']\n",
      "('test', 'hello Johnson')\n"
     ]
    },
    {
     "data": {
      "text/plain": [
       "1"
      ]
     },
     "execution_count": 284,
     "metadata": {},
     "output_type": "execute_result"
    }
   ],
   "source": [
    "r.lpush(\"test\", \"hello world\", \"hello Johnson\")\n",
    "print(r.lrange(\"test\", 0, -1))\n",
    "print(r.blpop(\"test\"))\n",
    "r.delete(\"test\")"
   ]
  },
  {
   "cell_type": "markdown",
   "metadata": {},
   "source": [
    "* brpop <key1\\> [<key2\\>] <timeout\\>  移出并获取列表的最后一个元素, 如果列表没有元素会阻塞列表直到等待超时或发现可弹出元素为止."
   ]
  },
  {
   "cell_type": "code",
   "execution_count": 285,
   "metadata": {},
   "outputs": [
    {
     "name": "stdout",
     "output_type": "stream",
     "text": [
      "['hello Johnson', 'hello world']\n",
      "('test', 'hello world')\n"
     ]
    },
    {
     "data": {
      "text/plain": [
       "1"
      ]
     },
     "execution_count": 285,
     "metadata": {},
     "output_type": "execute_result"
    }
   ],
   "source": [
    "r.lpush(\"test\", \"hello world\", \"hello Johnson\")\n",
    "print(r.lrange(\"test\", 0, -1))\n",
    "print(r.brpop(\"test\"))\n",
    "r.delete(\"test\")"
   ]
  },
  {
   "cell_type": "markdown",
   "metadata": {},
   "source": [
    "* brpoplpush <source\\> <destination\\> <timeout\\>  从列表中弹出一个值, 将弹出的元素插入到另外一个列表中并返回它; 如果列表没有元素会阻塞列表直到等待超时或发现可弹出元素为止."
   ]
  },
  {
   "cell_type": "code",
   "execution_count": 290,
   "metadata": {},
   "outputs": [
    {
     "name": "stdout",
     "output_type": "stream",
     "text": [
      "hello Alex\n",
      "['hello Alex', 'hello Johnson', 'hello world', 'hello Johnson', 'hello world']\n",
      "['hello Alex']\n"
     ]
    },
    {
     "data": {
      "text/plain": [
       "2"
      ]
     },
     "execution_count": 290,
     "metadata": {},
     "output_type": "execute_result"
    }
   ],
   "source": [
    "r.lpush(\"test1\", \"hello world\", \"hello Johnson\")\n",
    "r.lpush(\"test2\", \"hello Alex\")\n",
    "print(r.brpoplpush(\"test2\", \"test1\"))\n",
    "print(r.lrange(\"test1\", 0, -1))\n",
    "print(r.lrange(\"test2\", 0, -1))\n",
    "r.delete(\"test1\", \"test2\")"
   ]
  },
  {
   "cell_type": "markdown",
   "metadata": {},
   "source": [
    "* lindex <key\\> <index\\>  通过索引获取列表中的元素."
   ]
  },
  {
   "cell_type": "code",
   "execution_count": 293,
   "metadata": {},
   "outputs": [
    {
     "name": "stdout",
     "output_type": "stream",
     "text": [
      "hello Alex\n",
      "hello Johnson\n",
      "hello world\n"
     ]
    },
    {
     "data": {
      "text/plain": [
       "1"
      ]
     },
     "execution_count": 293,
     "metadata": {},
     "output_type": "execute_result"
    }
   ],
   "source": [
    "r.lpush(\"test\", \"hello world\", \"hello Johnson\", \"hello Alex\")\n",
    "print(r.lindex(\"test\", 0))\n",
    "print(r.lindex(\"test\", 1))\n",
    "print(r.lindex(\"test\", 2))\n",
    "r.delete(\"test\")"
   ]
  },
  {
   "cell_type": "markdown",
   "metadata": {},
   "source": [
    "* linsert <key\\> before | after <pivot\\> <value\\>  在列表的元素前或者后插入元素."
   ]
  },
  {
   "cell_type": "code",
   "execution_count": 304,
   "metadata": {},
   "outputs": [
    {
     "name": "stdout",
     "output_type": "stream",
     "text": [
      "['hello Johnson', 'hello world']\n",
      "['hello Johnson', 'hello Alex', 'hello world']\n"
     ]
    },
    {
     "data": {
      "text/plain": [
       "1"
      ]
     },
     "execution_count": 304,
     "metadata": {},
     "output_type": "execute_result"
    }
   ],
   "source": [
    "r.lpush(\"test\", \"hello world\", \"hello Johnson\")\n",
    "print(r.lrange(\"test\", 0, -1))\n",
    "r.linsert(\"test\", \"before\", \"hello world\", \"hello Alex\")\n",
    "print(r.lrange(\"test\", 0, -1))\n",
    "r.delete(\"test\")"
   ]
  },
  {
   "cell_type": "markdown",
   "metadata": {},
   "source": [
    "* llen <key\\>  获取列表长度."
   ]
  },
  {
   "cell_type": "code",
   "execution_count": 305,
   "metadata": {},
   "outputs": [
    {
     "name": "stdout",
     "output_type": "stream",
     "text": [
      "2\n"
     ]
    },
    {
     "data": {
      "text/plain": [
       "1"
      ]
     },
     "execution_count": 305,
     "metadata": {},
     "output_type": "execute_result"
    }
   ],
   "source": [
    "r.lpush(\"test\", \"hello world\", \"hello Johnson\")\n",
    "print(r.llen(\"test\"))\n",
    "r.delete(\"test\")"
   ]
  },
  {
   "cell_type": "markdown",
   "metadata": {},
   "source": [
    "* lpop <key\\>  移出并获取列表的第一个元素."
   ]
  },
  {
   "cell_type": "code",
   "execution_count": 310,
   "metadata": {},
   "outputs": [
    {
     "name": "stdout",
     "output_type": "stream",
     "text": [
      "['hello Johnson', 'hello world']\n",
      "hello Johnson\n",
      "['hello world']\n"
     ]
    },
    {
     "data": {
      "text/plain": [
       "1"
      ]
     },
     "execution_count": 310,
     "metadata": {},
     "output_type": "execute_result"
    }
   ],
   "source": [
    "r.lpush(\"test\", \"hello world\", \"hello Johnson\")\n",
    "print(r.lrange(\"test\", 0, -1))\n",
    "print(r.lpop(\"test\"))\n",
    "print(r.lrange(\"test\", 0, -1))\n",
    "r.delete(\"test\")"
   ]
  },
  {
   "cell_type": "markdown",
   "metadata": {},
   "source": [
    "* lpushx <key\\> <value\\>  将一个值插入到已存在的列表头部."
   ]
  },
  {
   "cell_type": "code",
   "execution_count": 313,
   "metadata": {},
   "outputs": [
    {
     "name": "stdout",
     "output_type": "stream",
     "text": [
      "['hello world']\n",
      "[]\n",
      "['hello Rock', 'hello world']\n"
     ]
    },
    {
     "data": {
      "text/plain": [
       "1"
      ]
     },
     "execution_count": 313,
     "metadata": {},
     "output_type": "execute_result"
    }
   ],
   "source": [
    "r.lpush(\"test1\", \"hello world\")\n",
    "print(r.lrange(\"test1\", 0, -1))\n",
    "r.lpushx(\"test2\", \"hello Rock\")\n",
    "print(r.lrange(\"test2\", 0, -1))\n",
    "r.lpushx(\"test1\", \"hello Rock\")\n",
    "print(r.lrange(\"test1\", 0, -1))\n",
    "r.delete(\"test1\")"
   ]
  },
  {
   "cell_type": "markdown",
   "metadata": {},
   "source": [
    "* lrange <key\\> <start\\> <stop\\>  获取列表指定范围内的元素."
   ]
  },
  {
   "cell_type": "code",
   "execution_count": 314,
   "metadata": {},
   "outputs": [
    {
     "name": "stdout",
     "output_type": "stream",
     "text": [
      "['hello King', 'hello world']\n"
     ]
    },
    {
     "data": {
      "text/plain": [
       "1"
      ]
     },
     "execution_count": 314,
     "metadata": {},
     "output_type": "execute_result"
    }
   ],
   "source": [
    "r.lpush(\"test\", \"hello world\", \"hello King\")\n",
    "print(r.lrange(\"test\", 0, -1))\n",
    "r.delete(\"test\")"
   ]
  },
  {
   "cell_type": "markdown",
   "metadata": {},
   "source": [
    "* lrem <key\\> <count\\> <value\\>  移除列表 count 个和 value 相同的元素,  count = 0时移除和 value 相同的所有元素.\n",
    "#### Attention\n",
    "* 在Python里 value 在 count 是对调的."
   ]
  },
  {
   "cell_type": "code",
   "execution_count": 320,
   "metadata": {},
   "outputs": [
    {
     "name": "stdout",
     "output_type": "stream",
     "text": [
      "['hello world', 'hello Johnson', 'hello world', 'hello world', 'hello world', 'hello world', 'hello Alex', 'hello world', 'hello King', 'hello world']\n",
      "['hello Johnson', 'hello world', 'hello world', 'hello world', 'hello Alex', 'hello world', 'hello King', 'hello world']\n",
      "['hello Johnson', 'hello world', 'hello world', 'hello world', 'hello Alex', 'hello King']\n",
      "['hello Johnson', 'hello Alex', 'hello King']\n"
     ]
    },
    {
     "data": {
      "text/plain": [
       "1"
      ]
     },
     "execution_count": 320,
     "metadata": {},
     "output_type": "execute_result"
    }
   ],
   "source": [
    "r.rpush(\"test\", \"hello world\", \"hello Johnson\", \"hello world\", \"hello world\", \"hello world\", \"hello world\", \"hello Alex\", \"hello world\", \"hello King\", \"hello world\")\n",
    "print(r.lrange(\"test\", 0, -1))\n",
    "r.lrem(\"test\", \"hello world\", 2)\n",
    "print(r.lrange(\"test\", 0, -1))\n",
    "r.lrem(\"test\", \"hello world\", -2)\n",
    "print(r.lrange(\"test\", 0, -1))\n",
    "r.lrem(\"test\", \"hello world\", 0)\n",
    "print(r.lrange(\"test\", 0, -1))\n",
    "r.delete(\"test\")"
   ]
  },
  {
   "cell_type": "markdown",
   "metadata": {},
   "source": [
    "* lset <key\\> <index\\> <value\\>  通过索引设置列表元素的值."
   ]
  },
  {
   "cell_type": "code",
   "execution_count": 321,
   "metadata": {},
   "outputs": [
    {
     "name": "stdout",
     "output_type": "stream",
     "text": [
      "['hello King', 'hello Rock', 'hello world']\n",
      "['hello King', 'hello Mr.Johnson', 'hello world']\n"
     ]
    },
    {
     "data": {
      "text/plain": [
       "1"
      ]
     },
     "execution_count": 321,
     "metadata": {},
     "output_type": "execute_result"
    }
   ],
   "source": [
    "r.lpush(\"test\", \"hello world\", \"hello Rock\", \"hello King\")\n",
    "print(r.lrange(\"test\", 0, -1))\n",
    "r.lset(\"test\", 1, \"hello Mr.Johnson\")\n",
    "print(r.lrange(\"test\", 0, -1))\n",
    "r.delete(\"test\")"
   ]
  },
  {
   "cell_type": "markdown",
   "metadata": {},
   "source": [
    "* rpush <key\\> <value1\\> [<value2\\>]  在列表尾部添加一个或多个值.\n",
    "* ltrim <key\\> <start\\> <stop\\>  对一个列表进行修剪(trim), 就是说, 让列表只保留指定区间内的元素, 不在指定区间之内的元素都将被删除."
   ]
  },
  {
   "cell_type": "code",
   "execution_count": 322,
   "metadata": {},
   "outputs": [
    {
     "name": "stdout",
     "output_type": "stream",
     "text": [
      "['hello world', 'hello Rock', 'hello King', 'hello Johnson', 'hello Alex', 'hello Oliver', 'hello Kate']\n",
      "['hello King', 'hello Johnson', 'hello Alex', 'hello Oliver']\n"
     ]
    },
    {
     "data": {
      "text/plain": [
       "1"
      ]
     },
     "execution_count": 322,
     "metadata": {},
     "output_type": "execute_result"
    }
   ],
   "source": [
    "r.rpush(\"test\", \"hello world\", \"hello Rock\", \"hello King\", \"hello Johnson\", \"hello Alex\", \"hello Oliver\", \"hello Kate\")\n",
    "print(r.lrange(\"test\", 0, -1))\n",
    "r.ltrim(\"test\", 2, 5)\n",
    "print(r.lrange(\"test\", 0, -1))\n",
    "r.delete(\"test\")"
   ]
  },
  {
   "cell_type": "markdown",
   "metadata": {},
   "source": [
    "* rpop <key\\>  移除并获取列表最后一个元素."
   ]
  },
  {
   "cell_type": "code",
   "execution_count": 325,
   "metadata": {
    "scrolled": true
   },
   "outputs": [
    {
     "name": "stdout",
     "output_type": "stream",
     "text": [
      "['hello world', 'hello Rock', 'hello King', 'hello Johnson', 'hello Alex', 'hello Oliver', 'hello Kate']\n",
      "hello Kate\n",
      "['hello world', 'hello Rock', 'hello King', 'hello Johnson', 'hello Alex', 'hello Oliver']\n"
     ]
    },
    {
     "data": {
      "text/plain": [
       "1"
      ]
     },
     "execution_count": 325,
     "metadata": {},
     "output_type": "execute_result"
    }
   ],
   "source": [
    "r.rpush(\"test\", \"hello world\", \"hello Rock\", \"hello King\", \"hello Johnson\", \"hello Alex\", \"hello Oliver\", \"hello Kate\")\n",
    "print(r.lrange(\"test\", 0, -1))\n",
    "print(r.rpop(\"test\"))\n",
    "print(r.lrange(\"test\", 0, -1))\n",
    "r.delete(\"test\")"
   ]
  },
  {
   "cell_type": "markdown",
   "metadata": {},
   "source": [
    "* rpoplpush <source\\> <destination\\>  移除列表的最后一个元素, 并将该元素添加到另一个列表并返回."
   ]
  },
  {
   "cell_type": "code",
   "execution_count": 326,
   "metadata": {},
   "outputs": [
    {
     "name": "stdout",
     "output_type": "stream",
     "text": [
      "['hello world', 'hello Rock', 'hello King', 'hello Johnson', 'hello Alex', 'hello Oliver', 'hello Kate']\n",
      "['hello Alice', 'hello George']\n",
      "hello George\n",
      "['hello George', 'hello world', 'hello Rock', 'hello King', 'hello Johnson', 'hello Alex', 'hello Oliver', 'hello Kate']\n",
      "['hello Alice']\n"
     ]
    },
    {
     "data": {
      "text/plain": [
       "2"
      ]
     },
     "execution_count": 326,
     "metadata": {},
     "output_type": "execute_result"
    }
   ],
   "source": [
    "r.rpush(\"test1\", \"hello world\", \"hello Rock\", \"hello King\", \"hello Johnson\", \"hello Alex\", \"hello Oliver\", \"hello Kate\")\n",
    "r.lpush(\"test2\", \"hello George\", \"hello Alice\")\n",
    "print(r.lrange(\"test1\", 0, -1))\n",
    "print(r.lrange(\"test2\", 0, -1))\n",
    "print(r.rpoplpush(\"test2\", \"test1\"))\n",
    "print(r.lrange(\"test1\", 0, -1))\n",
    "print(r.lrange(\"test2\", 0, -1))\n",
    "r.delete(\"test1\", \"test2\")"
   ]
  },
  {
   "cell_type": "markdown",
   "metadata": {},
   "source": [
    "* rpushx <key\\> <value\\>  向已存在的列表尾部添加一个值."
   ]
  },
  {
   "cell_type": "code",
   "execution_count": 328,
   "metadata": {},
   "outputs": [
    {
     "name": "stdout",
     "output_type": "stream",
     "text": [
      "['hello Rock', 'hello world', 'hello Rock', 'hello world']\n",
      "[]\n",
      "['hello Rock', 'hello world', 'hello Rock', 'hello world']\n",
      "[]\n",
      "['hello Rock', 'hello world', 'hello Rock', 'hello world', 'hello Quinn']\n",
      "[]\n"
     ]
    },
    {
     "data": {
      "text/plain": [
       "1"
      ]
     },
     "execution_count": 328,
     "metadata": {},
     "output_type": "execute_result"
    }
   ],
   "source": [
    "r.lpush(\"test1\", \"hello world\", \"hello Rock\")\n",
    "print(r.lrange(\"test1\", 0, -1))\n",
    "print(r.lrange(\"test2\", 0, -1))\n",
    "r.rpushx(\"test2\", \"hello George\")\n",
    "print(r.lrange(\"test1\", 0, -1))\n",
    "print(r.lrange(\"test2\", 0, -1))\n",
    "r.rpushx(\"test1\", \"hello Quinn\")\n",
    "print(r.lrange(\"test1\", 0, -1))\n",
    "print(r.lrange(\"test2\", 0, -1))\n",
    "r.delete(\"test1\", \"test2\")"
   ]
  },
  {
   "cell_type": "markdown",
   "metadata": {},
   "source": [
    "##### 集合(Set)命令 :\n",
    "#### Attention\n",
    "        * Redis 中 集合是通过哈希表实现的, 所以添加, 删除, 查找的复杂度都是O(1).\n",
    "* sadd <key\\> <member1\\> [<member2\\>]  向集合添加一个或多个成员.\n",
    "* smembers <key\\>  返回集合中的所有成员"
   ]
  },
  {
   "cell_type": "code",
   "execution_count": 330,
   "metadata": {},
   "outputs": [
    {
     "name": "stdout",
     "output_type": "stream",
     "text": [
      "{'hello Rock', 'hello world'}\n"
     ]
    },
    {
     "data": {
      "text/plain": [
       "1"
      ]
     },
     "execution_count": 330,
     "metadata": {},
     "output_type": "execute_result"
    }
   ],
   "source": [
    "r.sadd(\"test\", \"hello world\", \"hello Rock\")\n",
    "print(r.smembers(\"test\"))\n",
    "r.delete(\"test\")"
   ]
  },
  {
   "cell_type": "markdown",
   "metadata": {},
   "source": [
    "* scard <key\\>  获取集合的成员数."
   ]
  },
  {
   "cell_type": "code",
   "execution_count": 331,
   "metadata": {},
   "outputs": [
    {
     "name": "stdout",
     "output_type": "stream",
     "text": [
      "2\n"
     ]
    },
    {
     "data": {
      "text/plain": [
       "1"
      ]
     },
     "execution_count": 331,
     "metadata": {},
     "output_type": "execute_result"
    }
   ],
   "source": [
    "r.sadd(\"test\", \"hello world\", \"hello Rock\")\n",
    "print(r.scard(\"test\"))\n",
    "r.delete(\"test\")"
   ]
  },
  {
   "cell_type": "markdown",
   "metadata": {},
   "source": [
    "* sdiff <key1\\> [<key2\\>]  返回给定所有集合的差集."
   ]
  },
  {
   "cell_type": "code",
   "execution_count": 336,
   "metadata": {},
   "outputs": [
    {
     "name": "stdout",
     "output_type": "stream",
     "text": [
      "{'hello Rock'}\n",
      "{'hello Johnson'}\n"
     ]
    },
    {
     "data": {
      "text/plain": [
       "2"
      ]
     },
     "execution_count": 336,
     "metadata": {},
     "output_type": "execute_result"
    }
   ],
   "source": [
    "r.sadd(\"test1\", \"hello world\", \"hello Rock\")\n",
    "r.sadd(\"test2\", \"hello world\", \"hello Johnson\")\n",
    "print(r.sdiff(\"test1\", \"test2\"))\n",
    "print(r.sdiff(\"test2\", \"test1\"))\n",
    "r.delete(\"test1\", \"test2\")"
   ]
  },
  {
   "cell_type": "markdown",
   "metadata": {},
   "source": [
    "* sdiffstore <destination\\> <key1\\> [<key2\\>]  返回给定所有集合的差集并存储在 destination 中."
   ]
  },
  {
   "cell_type": "code",
   "execution_count": 343,
   "metadata": {
    "scrolled": true
   },
   "outputs": [
    {
     "name": "stdout",
     "output_type": "stream",
     "text": [
      "{'hello Rock'}\n",
      "{'hello Johnson'}\n"
     ]
    },
    {
     "data": {
      "text/plain": [
       "3"
      ]
     },
     "execution_count": 343,
     "metadata": {},
     "output_type": "execute_result"
    }
   ],
   "source": [
    "r.sadd(\"test1\", \"hello world\", \"hello Rock\")\n",
    "r.sadd(\"test2\", \"hello world\", \"hello Johnson\")\n",
    "r.sdiffstore(\"test3\", \"test1\", \"test2\")\n",
    "print(r.smembers(\"test3\"))\n",
    "r.sdiffstore(\"test3\", \"test2\", \"test1\")\n",
    "print(r.smembers(\"test3\"))\n",
    "r.delete(\"test1\", \"test2\", \"test3\")"
   ]
  },
  {
   "cell_type": "markdown",
   "metadata": {},
   "source": [
    "* sinter <key1\\> [<key2\\>]  返回给定所有集合的交集."
   ]
  },
  {
   "cell_type": "code",
   "execution_count": 345,
   "metadata": {},
   "outputs": [
    {
     "name": "stdout",
     "output_type": "stream",
     "text": [
      "{'hello world'}\n"
     ]
    },
    {
     "data": {
      "text/plain": [
       "2"
      ]
     },
     "execution_count": 345,
     "metadata": {},
     "output_type": "execute_result"
    }
   ],
   "source": [
    "r.sadd(\"test1\", \"hello world\", \"hello Rock\")\n",
    "r.sadd(\"test2\", \"hello world\", \"hello Johnson\")\n",
    "print(r.sinter(\"test1\", \"test2\"))\n",
    "r.delete(\"test1\", \"test2\")"
   ]
  },
  {
   "cell_type": "markdown",
   "metadata": {},
   "source": [
    "* sinterstore <destination\\> <key1\\> [<key2\\>]  返回给定所有集合的交集并存储在 destination 中."
   ]
  },
  {
   "cell_type": "code",
   "execution_count": 346,
   "metadata": {},
   "outputs": [
    {
     "name": "stdout",
     "output_type": "stream",
     "text": [
      "{'hello world'}\n"
     ]
    },
    {
     "data": {
      "text/plain": [
       "3"
      ]
     },
     "execution_count": 346,
     "metadata": {},
     "output_type": "execute_result"
    }
   ],
   "source": [
    "r.sadd(\"test1\", \"hello world\", \"hello Rock\")\n",
    "r.sadd(\"test2\", \"hello world\", \"hello Johnson\")\n",
    "r.sinterstore(\"test3\", \"test1\", \"test2\")\n",
    "print(r.smembers(\"test3\"))\n",
    "r.delete(\"test1\", \"test2\", \"test3\")"
   ]
  },
  {
   "cell_type": "markdown",
   "metadata": {},
   "source": [
    "* sismember <key\\> <member\\>  判断 member 元素是否是集合 key 的成员."
   ]
  },
  {
   "cell_type": "code",
   "execution_count": 347,
   "metadata": {},
   "outputs": [
    {
     "name": "stdout",
     "output_type": "stream",
     "text": [
      "True\n",
      "False\n"
     ]
    },
    {
     "data": {
      "text/plain": [
       "1"
      ]
     },
     "execution_count": 347,
     "metadata": {},
     "output_type": "execute_result"
    }
   ],
   "source": [
    "r.sadd(\"test\", \"hello world\", \"hello Rock\")\n",
    "print(r.sismember(\"test\", \"hello world\"))\n",
    "print(r.sismember(\"test\", \"hello King\"))\n",
    "r.delete(\"test\")"
   ]
  },
  {
   "cell_type": "markdown",
   "metadata": {},
   "source": [
    "* smove <source\\> <destination\\> <member\\>  将 member 元素从 source 集合移动到 destination 集合."
   ]
  },
  {
   "cell_type": "code",
   "execution_count": 350,
   "metadata": {},
   "outputs": [
    {
     "name": "stdout",
     "output_type": "stream",
     "text": [
      "{'hello Rock', 'hello world'}\n",
      "{'hello Johnson', 'hello Kate'}\n",
      "{'hello Rock', 'hello Kate', 'hello world'}\n",
      "{'hello Johnson'}\n"
     ]
    },
    {
     "data": {
      "text/plain": [
       "2"
      ]
     },
     "execution_count": 350,
     "metadata": {},
     "output_type": "execute_result"
    }
   ],
   "source": [
    "r.sadd(\"test1\", \"hello world\", \"hello Rock\")\n",
    "r.sadd(\"test2\", \"hello Kate\", \"hello Johnson\")\n",
    "print(r.smembers(\"test1\"))\n",
    "print(r.smembers(\"test2\"))\n",
    "r.smove(\"test2\", \"test1\", \"hello Kate\")\n",
    "print(r.smembers(\"test1\"))\n",
    "print(r.smembers(\"test2\"))\n",
    "r.delete(\"test1\", \"test2\")"
   ]
  },
  {
   "cell_type": "markdown",
   "metadata": {},
   "source": [
    "* spop <key\\>  移除并返回集合中的一个随机元素."
   ]
  },
  {
   "cell_type": "code",
   "execution_count": 356,
   "metadata": {},
   "outputs": [
    {
     "name": "stdout",
     "output_type": "stream",
     "text": [
      "hello world\n",
      "{'hello Alice', 'hello Johnson', 'hello Rock'}\n"
     ]
    },
    {
     "data": {
      "text/plain": [
       "1"
      ]
     },
     "execution_count": 356,
     "metadata": {},
     "output_type": "execute_result"
    }
   ],
   "source": [
    "r.sadd(\"test\", \"hello world\", \"hello Rock\", \"hello Johnson\", \"hello Alice\")\n",
    "print(r.spop(\"test\"))\n",
    "print(r.smembers(\"test\"))\n",
    "r.delete(\"test\")"
   ]
  },
  {
   "cell_type": "markdown",
   "metadata": {},
   "source": [
    "* srandmember <key\\> [<count\\>]  返回集合中一个或多个随机数."
   ]
  },
  {
   "cell_type": "code",
   "execution_count": 362,
   "metadata": {},
   "outputs": [
    {
     "name": "stdout",
     "output_type": "stream",
     "text": [
      "['hello world', 'hello Rock', 'hello Alice']\n"
     ]
    },
    {
     "data": {
      "text/plain": [
       "1"
      ]
     },
     "execution_count": 362,
     "metadata": {},
     "output_type": "execute_result"
    }
   ],
   "source": [
    "r.sadd(\"test\", \"hello world\", \"hello Rock\", \"hello Johnson\", \"hello Alice\")\n",
    "print(r.srandmember(\"test\", 3))\n",
    "r.delete(\"test\")"
   ]
  },
  {
   "cell_type": "markdown",
   "metadata": {},
   "source": [
    "* srem <key\\> <member1\\> [<member2\\>]  移除集合中一个或多个成员."
   ]
  },
  {
   "cell_type": "code",
   "execution_count": 363,
   "metadata": {},
   "outputs": [
    {
     "name": "stdout",
     "output_type": "stream",
     "text": [
      "{'hello Alice', 'hello Johnson', 'hello Rock', 'hello world'}\n",
      "{'hello Johnson', 'hello Rock'}\n"
     ]
    },
    {
     "data": {
      "text/plain": [
       "1"
      ]
     },
     "execution_count": 363,
     "metadata": {},
     "output_type": "execute_result"
    }
   ],
   "source": [
    "r.sadd(\"test\", \"hello world\", \"hello Rock\", \"hello Johnson\", \"hello Alice\")\n",
    "print(r.smembers(\"test\"))\n",
    "r.srem(\"test\", \"hello world\", \"hello Alice\")\n",
    "print(r.smembers(\"test\"))\n",
    "r.delete(\"test\")"
   ]
  },
  {
   "cell_type": "markdown",
   "metadata": {},
   "source": [
    "* sunion <key1\\> [<key2\\>]  返回所有给定集合的并集."
   ]
  },
  {
   "cell_type": "code",
   "execution_count": 369,
   "metadata": {},
   "outputs": [
    {
     "name": "stdout",
     "output_type": "stream",
     "text": [
      "{'hello Alice', 'hello Johnson', 'hello Rock', 'hello world'}\n"
     ]
    },
    {
     "data": {
      "text/plain": [
       "2"
      ]
     },
     "execution_count": 369,
     "metadata": {},
     "output_type": "execute_result"
    }
   ],
   "source": [
    "r.sadd(\"test1\", \"hello world\", \"hello Rock\")\n",
    "r.sadd(\"test2\", \"hello Johnson\", \"hello Alice\")\n",
    "print(r.sunion(\"test1\", \"test2\"))\n",
    "r.delete(\"test1\", \"test2\")"
   ]
  },
  {
   "cell_type": "markdown",
   "metadata": {},
   "source": [
    "* sunionstore <destination\\> <key1\\> [<key2\\>]  所有给定集合的并集存储在 destination 集合中."
   ]
  },
  {
   "cell_type": "code",
   "execution_count": 372,
   "metadata": {},
   "outputs": [
    {
     "name": "stdout",
     "output_type": "stream",
     "text": [
      "{'hello Alice', 'hello Johnson', 'hello Rock', 'hello world'}\n"
     ]
    },
    {
     "data": {
      "text/plain": [
       "3"
      ]
     },
     "execution_count": 372,
     "metadata": {},
     "output_type": "execute_result"
    }
   ],
   "source": [
    "r.sadd(\"test1\", \"hello world\", \"hello Rock\", \"hello Johnson\")\n",
    "r.sadd(\"test2\", \"hello Johnson\", \"hello Alice\")\n",
    "r.sunionstore(\"test3\", \"test1\", \"test2\")\n",
    "print(r.smembers(\"test3\"))\n",
    "r.delete(\"test1\", \"test2\", \"test3\")"
   ]
  },
  {
   "cell_type": "markdown",
   "metadata": {},
   "source": [
    "* sscan <key\\> <cursor\\> [match <pattern\\>] [count <count\\>]  迭代集合中的元素."
   ]
  },
  {
   "cell_type": "code",
   "execution_count": 378,
   "metadata": {},
   "outputs": [
    {
     "name": "stdout",
     "output_type": "stream",
     "text": [
      "(0, ['hello Rock', 'hello world', 'hello Johnson'])\n",
      "(0, ['hello Rock'])\n"
     ]
    },
    {
     "data": {
      "text/plain": [
       "1"
      ]
     },
     "execution_count": 378,
     "metadata": {},
     "output_type": "execute_result"
    }
   ],
   "source": [
    "r.sadd(\"test\", \"hello world\", \"hello Rock\", \"hello Johnson\")\n",
    "print(r.sscan(\"test\"))\n",
    "print(r.sscan(\"test\", match=\"hello Rock\"))\n",
    "r.delete(\"test\")"
   ]
  },
  {
   "cell_type": "markdown",
   "metadata": {},
   "source": [
    "##### 有序集合(sorted set)命令 :\n",
    "#### Attention\n",
    "    * 每个元素都会关联一个double类型的分数. redis正是通过分数来为集合中的成员进行从小到大的排序.\n",
    "    * 有序集合的成员是唯一的, 但分数(score)却可以重复.\n",
    "    \n",
    "* zadd <key\\> <score1\\> <member1\\> [<score2\\> <member2\\>]  向有序集合添加一个或多个成员, 或者更新已存在成员的分数.\n",
    "* zrange <key\\> <start\\> <stop\\> [withscores]  通过索引区间返回有序集合成指定区间内的成员.\n",
    "* zcard <key\\>  获取有序集合的成员数.\n",
    "#### Attention\n",
    "* 在Python里 score 和 member 是对调的"
   ]
  },
  {
   "cell_type": "code",
   "execution_count": 5,
   "metadata": {},
   "outputs": [
    {
     "name": "stdout",
     "output_type": "stream",
     "text": [
      "3\n",
      "['hello Rock', 'hello Johnson', 'hello world']\n"
     ]
    },
    {
     "data": {
      "text/plain": [
       "1"
      ]
     },
     "execution_count": 5,
     "metadata": {},
     "output_type": "execute_result"
    }
   ],
   "source": [
    "r.zadd(\"test\", \"hello world\", 5, \"hello Rock\", 2, \"hello Johnson\", 3)\n",
    "lens = r.zcard(\"test\")\n",
    "print(lens)\n",
    "print(r.zrange(\"test\", 0, lens))\n",
    "r.delete(\"test\")"
   ]
  },
  {
   "cell_type": "markdown",
   "metadata": {},
   "source": [
    "* zcount <key\\> <min\\> <max\\>  计算在有序集合中指定区间分数的成员数."
   ]
  },
  {
   "cell_type": "code",
   "execution_count": 6,
   "metadata": {},
   "outputs": [
    {
     "name": "stdout",
     "output_type": "stream",
     "text": [
      "2\n"
     ]
    },
    {
     "data": {
      "text/plain": [
       "1"
      ]
     },
     "execution_count": 6,
     "metadata": {},
     "output_type": "execute_result"
    }
   ],
   "source": [
    "r.zadd(\"test\", \"hello world\", 5, \"hello Rock\", 2, \"hello Johnson\", 3)\n",
    "print(r.zcount(\"test\", 1, 4))\n",
    "r.delete(\"test\")"
   ]
  },
  {
   "cell_type": "markdown",
   "metadata": {},
   "source": [
    "* zincrby <key\\> <increment\\> <member\\>  有序集合中对指定成员的分数加上增量 increment.\n",
    "#### Attention\n",
    "* 在Python里 increment 和 member 是对调的."
   ]
  },
  {
   "cell_type": "code",
   "execution_count": 11,
   "metadata": {},
   "outputs": [
    {
     "name": "stdout",
     "output_type": "stream",
     "text": [
      "['hello Rock', 'hello Johnson', 'hello world']\n",
      "['hello Johnson', 'hello Rock', 'hello world']\n"
     ]
    },
    {
     "data": {
      "text/plain": [
       "1"
      ]
     },
     "execution_count": 11,
     "metadata": {},
     "output_type": "execute_result"
    }
   ],
   "source": [
    "r.zadd(\"test\", \"hello world\", 5, \"hello Rock\", 2, \"hello Johnson\", 3)\n",
    "print(r.zrange(\"test\", 0, -1))\n",
    "r.zincrby(\"test\", \"hello Rock\", 2)\n",
    "print(r.zrange(\"test\", 0, -1))\n",
    "r.delete(\"test\")"
   ]
  },
  {
   "cell_type": "markdown",
   "metadata": {},
   "source": [
    "* zinterstore <destination\\> <numkeys\\> <key1\\> [<key2\\>]  计算给定的一个或多个有序集的交集并将结果集存储在新的有序集合 destination 中.\n",
    "#### Attention\n",
    "* 在Python里 numkeys 和 keys 是对调的."
   ]
  },
  {
   "cell_type": "code",
   "execution_count": 23,
   "metadata": {},
   "outputs": [
    {
     "name": "stdout",
     "output_type": "stream",
     "text": [
      "['hello world', 'hello Rock']\n"
     ]
    },
    {
     "data": {
      "text/plain": [
       "3"
      ]
     },
     "execution_count": 23,
     "metadata": {},
     "output_type": "execute_result"
    }
   ],
   "source": [
    "r.zadd(\"test1\", \"hello world\", 5, \"hello Rock\", 2, \"hello Johnson\", 3)\n",
    "r.zadd(\"test2\", \"hello world\", 1, \"hello Rock\", 8, \"hello Alice\", 3)\n",
    "r.zinterstore(\"test3\", (\"test1\", \"test2\"))\n",
    "print(r.zrange(\"test3\", 0, -1))\n",
    "r.delete(\"test1\", \"test2\", \"test3\")"
   ]
  },
  {
   "cell_type": "markdown",
   "metadata": {},
   "source": [
    "* zlexcount <key\\> <min\\> <max\\>  在有序集合中计算指定字典区间内成员数量."
   ]
  },
  {
   "cell_type": "code",
   "execution_count": 47,
   "metadata": {},
   "outputs": [
    {
     "name": "stdout",
     "output_type": "stream",
     "text": [
      "3\n"
     ]
    },
    {
     "data": {
      "text/plain": [
       "1"
      ]
     },
     "execution_count": 47,
     "metadata": {},
     "output_type": "execute_result"
    }
   ],
   "source": [
    "r.zadd(\"test\", \"hello world\", 5, \"hello Rock\", 2, \"hello Johnson\", 3)\n",
    "print(r.zlexcount(\"test\", \"-\", \"+\"))\n",
    "r.delete(\"test\")"
   ]
  },
  {
   "cell_type": "markdown",
   "metadata": {},
   "source": [
    "* zrangebylex <key\\> <min\\> <max\\> [limit <offset\\> <count\\>]  通过字典区间返回有序集合的成员."
   ]
  },
  {
   "cell_type": "code",
   "execution_count": 72,
   "metadata": {},
   "outputs": [
    {
     "name": "stdout",
     "output_type": "stream",
     "text": [
      "['a', 'b', 'c', 'd', 'e']\n",
      "['a', 'b', 'c', 'd']\n"
     ]
    },
    {
     "data": {
      "text/plain": [
       "1"
      ]
     },
     "execution_count": 72,
     "metadata": {},
     "output_type": "execute_result"
    }
   ],
   "source": [
    "r.zadd(\"test\", \"a\", 1, \"b\", 1, \"c\", 1, \"d\", 1, \"e\", 1)\n",
    "print(r.zrange(\"test\", 0, -1))\n",
    "print(r.zrangebylex(\"test\", \"[a\", \"[d\"))\n",
    "r.delete(\"test\")"
   ]
  },
  {
   "cell_type": "markdown",
   "metadata": {},
   "source": [
    "* zrangebyscore <key\\> <min\\> <max\\> [withscores] [limit]  通过分数返回有序集合指定区间内的成员."
   ]
  },
  {
   "cell_type": "code",
   "execution_count": 75,
   "metadata": {},
   "outputs": [
    {
     "name": "stdout",
     "output_type": "stream",
     "text": [
      "['hello Rock', 'hello Johnson']\n"
     ]
    },
    {
     "data": {
      "text/plain": [
       "1"
      ]
     },
     "execution_count": 75,
     "metadata": {},
     "output_type": "execute_result"
    }
   ],
   "source": [
    "r.zadd(\"test\", \"hello world\", 5, \"hello Rock\", 2, \"hello Johnson\", 3)\n",
    "print(r.zrangebyscore(\"test\", 1, 4))\n",
    "r.delete(\"test\")"
   ]
  },
  {
   "cell_type": "markdown",
   "metadata": {},
   "source": [
    "* zrank <key\\> <member\\>  返回有序集合中指定成员的索引."
   ]
  },
  {
   "cell_type": "code",
   "execution_count": 78,
   "metadata": {},
   "outputs": [
    {
     "name": "stdout",
     "output_type": "stream",
     "text": [
      "0\n",
      "2\n"
     ]
    },
    {
     "data": {
      "text/plain": [
       "0"
      ]
     },
     "execution_count": 78,
     "metadata": {},
     "output_type": "execute_result"
    }
   ],
   "source": [
    "r.zadd(\"test\", \"hello world\", 5, \"hello Rock\", 2, \"hello Johnson\", 3)\n",
    "print(r.zrank(\"test\", \"hello Rock\"))\n",
    "print(r.zrank(\"test\", \"hello world\"))\n",
    "r.delete(\"'test\")"
   ]
  },
  {
   "cell_type": "markdown",
   "metadata": {},
   "source": [
    "* zrem <key\\> <member1\\> [<member2\\>]  移除有序集合中的一个或多个成员."
   ]
  },
  {
   "cell_type": "code",
   "execution_count": 79,
   "metadata": {},
   "outputs": [
    {
     "name": "stdout",
     "output_type": "stream",
     "text": [
      "['hello Rock', 'hello Johnson', 'hello world']\n",
      "['hello Rock', 'hello Johnson']\n"
     ]
    },
    {
     "data": {
      "text/plain": [
       "1"
      ]
     },
     "execution_count": 79,
     "metadata": {},
     "output_type": "execute_result"
    }
   ],
   "source": [
    "r.zadd(\"test\", \"hello world\", 5, \"hello Rock\", 2, \"hello Johnson\", 3)\n",
    "print(r.zrange(\"test\", 0, -1))\n",
    "r.zrem(\"test\", \"hello world\")\n",
    "print(r.zrange(\"test\", 0, -1))\n",
    "r.delete(\"test\")"
   ]
  },
  {
   "cell_type": "markdown",
   "metadata": {},
   "source": [
    "* zremrangebylex <key\\> <min\\> <max\\>  移除有序集合中给定的字典区间的所有成员."
   ]
  },
  {
   "cell_type": "code",
   "execution_count": 83,
   "metadata": {},
   "outputs": [
    {
     "name": "stdout",
     "output_type": "stream",
     "text": [
      "['a', 'b', 'c']\n",
      "['c']\n"
     ]
    },
    {
     "data": {
      "text/plain": [
       "1"
      ]
     },
     "execution_count": 83,
     "metadata": {},
     "output_type": "execute_result"
    }
   ],
   "source": [
    "r.zadd(\"test\", \"a\", 1, \"b\", 1, \"c\", 1)\n",
    "print(r.zrange(\"test\", 0, -1))\n",
    "r.zremrangebylex(\"test\", \"[a\", \"[b\")\n",
    "print(r.zrange(\"test\", 0, -1))\n",
    "r.delete(\"test\")"
   ]
  },
  {
   "cell_type": "markdown",
   "metadata": {},
   "source": [
    "* zremrangebyrank <key\\> <start\\> <stop\\>  移除有序集合中给定的排名区间的所有成员."
   ]
  },
  {
   "cell_type": "code",
   "execution_count": 85,
   "metadata": {},
   "outputs": [
    {
     "name": "stdout",
     "output_type": "stream",
     "text": [
      "['hello Rock', 'hello Johnson', 'hello world']\n",
      "['hello world']\n"
     ]
    },
    {
     "data": {
      "text/plain": [
       "1"
      ]
     },
     "execution_count": 85,
     "metadata": {},
     "output_type": "execute_result"
    }
   ],
   "source": [
    "r.zadd(\"test\", \"hello world\", 5, \"hello Rock\", 2, \"hello Johnson\", 3)\n",
    "print(r.zrange(\"test\", 0, -1))\n",
    "r.zremrangebyrank(\"test\", 0, 1)\n",
    "print(r.zrange(\"test\", 0, -1))\n",
    "r.delete(\"test\")"
   ]
  },
  {
   "cell_type": "markdown",
   "metadata": {},
   "source": [
    "* zremmrangebyscore <key\\> <min\\> <max\\>  移除有序集合中给定的分数区间的所有成员."
   ]
  },
  {
   "cell_type": "code",
   "execution_count": 87,
   "metadata": {},
   "outputs": [
    {
     "name": "stdout",
     "output_type": "stream",
     "text": [
      "['hello Rock', 'hello Johnson', 'hello world']\n",
      "['hello Rock']\n"
     ]
    },
    {
     "data": {
      "text/plain": [
       "1"
      ]
     },
     "execution_count": 87,
     "metadata": {},
     "output_type": "execute_result"
    }
   ],
   "source": [
    "r.zadd(\"test\", \"hello world\", 5, \"hello Rock\", 2, \"hello Johnson\", 3)\n",
    "print(r.zrange(\"test\", 0, -1))\n",
    "r.zremrangebyscore(\"test\", 3, 5)\n",
    "print(r.zrange(\"test\", 0, -1))\n",
    "r.delete(\"test\")"
   ]
  },
  {
   "cell_type": "markdown",
   "metadata": {},
   "source": [
    "* zrevrange <key\\> <start\\> <stop\\> [withscores]  返回有序集中指定区间内的成员, 通过索引, 分数从高到底."
   ]
  },
  {
   "cell_type": "code",
   "execution_count": 88,
   "metadata": {},
   "outputs": [
    {
     "name": "stdout",
     "output_type": "stream",
     "text": [
      "['hello Rock', 'hello Johnson', 'hello world']\n",
      "['hello world', 'hello Johnson', 'hello Rock']\n"
     ]
    },
    {
     "data": {
      "text/plain": [
       "1"
      ]
     },
     "execution_count": 88,
     "metadata": {},
     "output_type": "execute_result"
    }
   ],
   "source": [
    "r.zadd(\"test\", \"hello world\", 5, \"hello Rock\", 2, \"hello Johnson\", 3)\n",
    "print(r.zrange(\"test\", 0, -1))\n",
    "print(r.zrevrange(\"test\", 0, -1))\n",
    "r.delete(\"test\")"
   ]
  },
  {
   "cell_type": "markdown",
   "metadata": {},
   "source": [
    "* zrevrangebyscore <key\\> <max\\> <min\\> [withscores]  返回有序集中指定分数区间内的成员, 分数从高到低排序."
   ]
  },
  {
   "cell_type": "code",
   "execution_count": 90,
   "metadata": {},
   "outputs": [
    {
     "name": "stdout",
     "output_type": "stream",
     "text": [
      "['hello Johnson', 'hello Rock']\n"
     ]
    },
    {
     "data": {
      "text/plain": [
       "1"
      ]
     },
     "execution_count": 90,
     "metadata": {},
     "output_type": "execute_result"
    }
   ],
   "source": [
    "r.zadd(\"test\", \"hello world\", 5, \"hello Rock\", 2, \"hello Johnson\", 3)\n",
    "print(r.zrevrangebyscore(\"test\", 4, 1))\n",
    "r.delete(\"test\")"
   ]
  },
  {
   "cell_type": "markdown",
   "metadata": {},
   "source": [
    "* zrevrank <key\\> <member\\>  返回有序集合中指定成员的排名, 有序集成员按分数值递减(从大到小)排序."
   ]
  },
  {
   "cell_type": "code",
   "execution_count": 93,
   "metadata": {},
   "outputs": [
    {
     "name": "stdout",
     "output_type": "stream",
     "text": [
      "1\n"
     ]
    },
    {
     "data": {
      "text/plain": [
       "1"
      ]
     },
     "execution_count": 93,
     "metadata": {},
     "output_type": "execute_result"
    }
   ],
   "source": [
    "r.zadd(\"test\", \"hello world\", 5, \"hello Rock\", 2, \"hello Johnson\", 3)\n",
    "print(r.zrevrank(\"test\", \"hello Johnson\"))\n",
    "r.delete(\"test\")"
   ]
  },
  {
   "cell_type": "markdown",
   "metadata": {},
   "source": [
    "* zscore <key\\> <member\\>  返回有序集中, 成员的分数值."
   ]
  },
  {
   "cell_type": "code",
   "execution_count": 94,
   "metadata": {},
   "outputs": [
    {
     "name": "stdout",
     "output_type": "stream",
     "text": [
      "3.0\n"
     ]
    },
    {
     "data": {
      "text/plain": [
       "1"
      ]
     },
     "execution_count": 94,
     "metadata": {},
     "output_type": "execute_result"
    }
   ],
   "source": [
    "r.zadd(\"test\", \"hello world\", 5, \"hello Rock\", 2, \"hello Johnson\", 3)\n",
    "print(r.zscore(\"test\", \"hello Johnson\"))\n",
    "r.delete(\"test\")"
   ]
  },
  {
   "cell_type": "markdown",
   "metadata": {},
   "source": [
    "* zunionstore <destination\\> <numberkeys\\> <key1\\> [<key2\\>]  计算给定的一个或多个有序集的并集, 并存储在的 destination 中.\n",
    "\n",
    "#### Attention\n",
    "* 在Python里 numkeys 和 keys 是对调的."
   ]
  },
  {
   "cell_type": "code",
   "execution_count": 95,
   "metadata": {},
   "outputs": [
    {
     "name": "stdout",
     "output_type": "stream",
     "text": [
      "['hello Alice', 'hello Rock', 'hello George', 'hello world', 'hello Johnson']\n"
     ]
    },
    {
     "data": {
      "text/plain": [
       "3"
      ]
     },
     "execution_count": 95,
     "metadata": {},
     "output_type": "execute_result"
    }
   ],
   "source": [
    "r.zadd(\"test1\", \"hello world\", 5, \"hello Rock\", 2, \"hello Johnson\", 3)\n",
    "r.zadd(\"test2\", \"hello George\", 5, \"hello Alice\", 2, \"hello Johnson\", 3)\n",
    "r.zunionstore(\"test3\", (\"test1\", \"test2\"))\n",
    "print(r.zrange(\"test3\", 0, -1))\n",
    "r.delete(\"test1\", \"test2\", \"test3\")"
   ]
  },
  {
   "cell_type": "markdown",
   "metadata": {},
   "source": [
    "* zscan <key\\> <cursor\\> [match <pattern\\>] [count <count\\>]  迭代有序集合中的元素(包括元素成员和元素分值)."
   ]
  },
  {
   "cell_type": "code",
   "execution_count": 96,
   "metadata": {},
   "outputs": [
    {
     "name": "stdout",
     "output_type": "stream",
     "text": [
      "(0, [('hello Rock', 2.0)])\n"
     ]
    },
    {
     "data": {
      "text/plain": [
       "1"
      ]
     },
     "execution_count": 96,
     "metadata": {},
     "output_type": "execute_result"
    }
   ],
   "source": [
    "r.zadd(\"test\", \"hello world\", 5, \"hello Rock\", 2, \"hello Johnson\", 3)\n",
    "print(r.zscan(\"test\", match=\"hello Rock\"))\n",
    "r.delete(\"test\")"
   ]
  }
 ],
 "metadata": {
  "kernelspec": {
   "display_name": "Python 3",
   "language": "python",
   "name": "python3"
  },
  "language_info": {
   "codemirror_mode": {
    "name": "ipython",
    "version": 3
   },
   "file_extension": ".py",
   "mimetype": "text/x-python",
   "name": "python",
   "nbconvert_exporter": "python",
   "pygments_lexer": "ipython3",
   "version": "3.5.2"
  }
 },
 "nbformat": 4,
 "nbformat_minor": 2
}
