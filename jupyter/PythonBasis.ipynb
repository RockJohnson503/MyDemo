{
 "cells": [
  {
   "cell_type": "markdown",
   "metadata": {},
   "source": [
    "# Python基础\n",
    "\n",
    "### 面向对象"
   ]
  },
  {
   "cell_type": "code",
   "execution_count": 2,
   "metadata": {},
   "outputs": [
    {
     "name": "stdout",
     "output_type": "stream",
     "text": [
      "['__class__', '__delattr__', '__dict__', '__dir__', '__doc__', '__eq__', '__format__', '__ge__', '__getattribute__', '__gt__', '__hash__', '__init__', '__le__', '__lt__', '__module__', '__ne__', '__new__', '__reduce__', '__reduce_ex__', '__repr__', '__setattr__', '__sizeof__', '__str__', '__subclasshook__', '__weakref__', '_age', '_test__weight', 'get_weight', 'name']\n",
      "{'_test__weight': 70, '_age': 18, 'name': 'Rock'}\n",
      "70\n",
      "<bound method test.get_weight of <__main__.test object at 0x7feba44def98>>\n",
      "70\n",
      "123\n",
      "['__add__', '__class__', '__contains__', '__delattr__', '__delitem__', '__dir__', '__doc__', '__eq__', '__format__', '__ge__', '__getattribute__', '__getitem__', '__gt__', '__hash__', '__iadd__', '__imul__', '__init__', '__iter__', '__le__', '__len__', '__lt__', '__mul__', '__ne__', '__new__', '__reduce__', '__reduce_ex__', '__repr__', '__reversed__', '__rmul__', '__setattr__', '__setitem__', '__sizeof__', '__str__', '__subclasshook__', 'append', 'clear', 'copy', 'count', 'extend', 'index', 'insert', 'pop', 'remove', 'reverse', 'sort']\n"
     ]
    }
   ],
   "source": [
    "class test(object):\n",
    "    def __init__(self, name, age, weight):\n",
    "        self.name = name\n",
    "        self._age = age\n",
    "        self.__weight = weight\n",
    "        \n",
    "    def get_weight(self):\n",
    "        return self.__weight\n",
    "    \n",
    "\n",
    "if __name__ == \"__main__\":\n",
    "    test = test(\"Rock\", 18, 70)\n",
    "    print(dir(test))\n",
    "    print(test.__dict__)\n",
    "    print(test.get_weight())\n",
    "    print(test.get_weight)\n",
    "    print(test._test__weight)\n",
    "    test.get_weight = \"123\"\n",
    "    print(test.get_weight)\n",
    "    print(dir(list))"
   ]
  },
  {
   "cell_type": "markdown",
   "metadata": {},
   "source": [
    "### 高阶函数\n",
    "\n",
    "#### 高阶函数的定义\n",
    "* 接受一个或多个函数作为参数\n",
    "* 返回一个参数"
   ]
  },
  {
   "cell_type": "code",
   "execution_count": 4,
   "metadata": {},
   "outputs": [
    {
     "name": "stdout",
     "output_type": "stream",
     "text": [
      "6\n"
     ]
    }
   ],
   "source": [
    "def counter(base):\n",
    "    def inc(step=1):\n",
    "        nonlocal base\n",
    "        base += step\n",
    "        return base\n",
    "    return inc\n",
    "\n",
    "foo = counter(5)\n",
    "print(foo())"
   ]
  },
  {
   "cell_type": "markdown",
   "metadata": {},
   "source": [
    "### Question:\n",
    "* f1 = counter(5) 和 f2 = counter(5)是否相等"
   ]
  },
  {
   "cell_type": "code",
   "execution_count": 11,
   "metadata": {},
   "outputs": [
    {
     "name": "stdout",
     "output_type": "stream",
     "text": [
      "140650050512824 140650050512008\n",
      "False\n"
     ]
    }
   ],
   "source": [
    "f1 = counter(5)\n",
    "f2 = counter(5)\n",
    "print(id(f1), id(f2))\n",
    "print(f1 == f2)"
   ]
  }
 ],
 "metadata": {
  "kernelspec": {
   "display_name": "Python 3",
   "language": "python",
   "name": "python3"
  },
  "language_info": {
   "codemirror_mode": {
    "name": "ipython",
    "version": 3
   },
   "file_extension": ".py",
   "mimetype": "text/x-python",
   "name": "python",
   "nbconvert_exporter": "python",
   "pygments_lexer": "ipython3",
   "version": "3.5.2"
  }
 },
 "nbformat": 4,
 "nbformat_minor": 2
}
